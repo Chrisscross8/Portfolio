{
 "cells": [
  {
   "cell_type": "markdown",
   "metadata": {
    "collapsed": true
   },
   "source": [
    "# Introduction"
   ]
  },
  {
   "cell_type": "markdown",
   "metadata": {},
   "source": [
    "In this notebook, I analyzed the data about police killings between January and June 2015 in the USA. The data were provided by FiveThirtyEight (https://github.com/fivethirtyeight/data/tree/master/police-killings). They used the Guardian's database and the Census as their sources. Some of the analysis was guided by https://www.dataquest.io.  "
   ]
  },
  {
   "cell_type": "code",
   "execution_count": 275,
   "metadata": {
    "collapsed": true
   },
   "outputs": [],
   "source": [
    "import pandas as pd\n",
    "import matplotlib.pyplot as plt\n",
    "import numpy as np\n",
    "%matplotlib inline\n",
    "from mpl_toolkits.basemap import Basemap\n",
    "import scipy\n",
    "from scipy.stats.stats import pearsonr\n",
    "from scipy.stats import linregress"
   ]
  },
  {
   "cell_type": "code",
   "execution_count": 222,
   "metadata": {
    "collapsed": false
   },
   "outputs": [
    {
     "name": "stdout",
     "output_type": "stream",
     "text": [
      "                 name age gender    raceethnicity     month  day  year  \\\n",
      "0  A'donte Washington  16   Male            Black  February   23  2015   \n",
      "1      Aaron Rutledge  27   Male            White     April    2  2015   \n",
      "2         Aaron Siler  26   Male            White     March   14  2015   \n",
      "3        Aaron Valdez  25   Male  Hispanic/Latino     March   11  2015   \n",
      "4        Adam Jovicic  29   Male            White     March   19  2015   \n",
      "\n",
      "            streetaddress          city state    ...     share_hispanic  \\\n",
      "0            Clearview Ln     Millbrook    AL    ...                5.6   \n",
      "1  300 block Iris Park Dr     Pineville    LA    ...                0.5   \n",
      "2    22nd Ave and 56th St       Kenosha    WI    ...               16.8   \n",
      "3       3000 Seminole Ave    South Gate    CA    ...               98.8   \n",
      "4          364 Hiwood Ave  Munroe Falls    OH    ...                1.7   \n",
      "\n",
      "   p_income  h_income  county_income  comp_income  county_bucket  nat_bucket  \\\n",
      "0     28375   51367.0          54766     0.937936            3.0         3.0   \n",
      "1     14678   27972.0          40930     0.683411            2.0         1.0   \n",
      "2     25286   45365.0          54930     0.825869            2.0         3.0   \n",
      "3     17194   48295.0          55909     0.863814            3.0         3.0   \n",
      "4     33954   68785.0          49669     1.384868            5.0         4.0   \n",
      "\n",
      "    pov     urate   college  \n",
      "0  14.1  0.097686  0.168510  \n",
      "1  28.8  0.065724  0.111402  \n",
      "2  14.6  0.166293  0.147312  \n",
      "3  11.7  0.124827  0.050133  \n",
      "4   1.9  0.063550  0.403954  \n",
      "\n",
      "[5 rows x 34 columns]\n"
     ]
    }
   ],
   "source": [
    "police_killings = pd.read_csv('police_killings.csv', encoding='ISO-8859-1')\n",
    "print(police_killings.head())"
   ]
  },
  {
   "cell_type": "code",
   "execution_count": 223,
   "metadata": {
    "collapsed": false
   },
   "outputs": [
    {
     "data": {
      "text/plain": [
       "Index(['name', 'age', 'gender', 'raceethnicity', 'month', 'day', 'year',\n",
       "       'streetaddress', 'city', 'state', 'latitude', 'longitude', 'state_fp',\n",
       "       'county_fp', 'tract_ce', 'geo_id', 'county_id', 'namelsad',\n",
       "       'lawenforcementagency', 'cause', 'armed', 'pop', 'share_white',\n",
       "       'share_black', 'share_hispanic', 'p_income', 'h_income',\n",
       "       'county_income', 'comp_income', 'county_bucket', 'nat_bucket', 'pov',\n",
       "       'urate', 'college'],\n",
       "      dtype='object')"
      ]
     },
     "execution_count": 223,
     "metadata": {},
     "output_type": "execute_result"
    }
   ],
   "source": [
    "police_killings.columns"
   ]
  },
  {
   "cell_type": "markdown",
   "metadata": {},
   "source": [
    "# Diversity in race"
   ]
  },
  {
   "cell_type": "markdown",
   "metadata": {},
   "source": [
    "Which race did the most victims belong to"
   ]
  },
  {
   "cell_type": "code",
   "execution_count": 224,
   "metadata": {
    "collapsed": false
   },
   "outputs": [
    {
     "data": {
      "text/plain": [
       "<matplotlib.text.Text at 0x134631d1080>"
      ]
     },
     "execution_count": 224,
     "metadata": {},
     "output_type": "execute_result"
    },
    {
     "data": {
      "image/png": "[encoded data removed]",
      "text/plain": [
       "<matplotlib.figure.Figure at 0x134631b29b0>"
      ]
     },
     "metadata": {},
     "output_type": "display_data"
    }
   ],
   "source": [
    "counts = police_killings['raceethnicity'].value_counts()\n",
    "fig = plt.figure(figsize=(8,8))\n",
    "ax = fig.add_subplot(1,1,1)\n",
    "ax.bar(range(len(counts)),counts, align='center')\n",
    "plt.xticks(range(len(counts)),counts.index,rotation='vertical')\n",
    "plt.title('Ethnicity diversion')"
   ]
  },
  {
   "cell_type": "code",
   "execution_count": 225,
   "metadata": {
    "collapsed": false
   },
   "outputs": [
    {
     "data": {
      "text/plain": [
       "White                     0.505353\n",
       "Black                     0.289079\n",
       "Hispanic/Latino           0.143469\n",
       "Unknown                   0.032120\n",
       "Asian/Pacific Islander    0.021413\n",
       "Native American           0.008565\n",
       "Name: raceethnicity, dtype: float64"
      ]
     },
     "execution_count": 225,
     "metadata": {},
     "output_type": "execute_result"
    }
   ],
   "source": [
    "# Share of each group\n",
    "counts/sum(counts)"
   ]
  },
  {
   "cell_type": "markdown",
   "metadata": {},
   "source": [
    "One can see, more than 50% of the people, who died, were white. "
   ]
  },
  {
   "cell_type": "markdown",
   "metadata": {},
   "source": [
    "# Female victims"
   ]
  },
  {
   "cell_type": "markdown",
   "metadata": {},
   "source": [
    "How many females died."
   ]
  },
  {
   "cell_type": "code",
   "execution_count": 226,
   "metadata": {
    "collapsed": false
   },
   "outputs": [
    {
     "data": {
      "text/plain": [
       "Male      445\n",
       "Female     22\n",
       "Name: gender, dtype: int64"
      ]
     },
     "execution_count": 226,
     "metadata": {},
     "output_type": "execute_result"
    }
   ],
   "source": [
    "police_killings['gender'].value_counts()"
   ]
  },
  {
   "cell_type": "code",
   "execution_count": 227,
   "metadata": {
    "collapsed": false
   },
   "outputs": [
    {
     "data": {
      "text/plain": [
       "<matplotlib.text.Text at 0x1346323fe48>"
      ]
     },
     "execution_count": 227,
     "metadata": {},
     "output_type": "execute_result"
    },
    {
     "data": {
      "image/png": "[encoded data removed]",
      "text/plain": [
       "<matplotlib.figure.Figure at 0x13461945ef0>"
      ]
     },
     "metadata": {},
     "output_type": "display_data"
    }
   ],
   "source": [
    "Females = police_killings[police_killings['gender']=='Female']\n",
    "counts = Females['raceethnicity'].value_counts()\n",
    "fig = plt.figure(figsize=(8,8))\n",
    "ax = fig.add_subplot(1,1,1)\n",
    "ax.bar(range(len(counts)),counts, align='center')\n",
    "plt.xticks(range(len(counts)),counts.index,rotation='vertical')\n",
    "plt.title('Ethnicity diversion of the female victims')"
   ]
  },
  {
   "cell_type": "markdown",
   "metadata": {},
   "source": [
    "Only 22 of the victims were female, they were also mostly white."
   ]
  },
  {
   "cell_type": "markdown",
   "metadata": {},
   "source": [
    "# Were the victims armed?"
   ]
  },
  {
   "cell_type": "code",
   "execution_count": 228,
   "metadata": {
    "collapsed": false,
    "scrolled": true
   },
   "outputs": [
    {
     "data": {
      "text/plain": [
       "<matplotlib.text.Text at 0x13463ced908>"
      ]
     },
     "execution_count": 228,
     "metadata": {},
     "output_type": "execute_result"
    },
    {
     "data": {
      "image/png": "[encoded data removed]",
      "text/plain": [
       "<matplotlib.figure.Figure at 0x134631bfeb8>"
      ]
     },
     "metadata": {},
     "output_type": "display_data"
    }
   ],
   "source": [
    "counts = police_killings['armed'].value_counts()\n",
    "fig = plt.figure(figsize=(8,8))\n",
    "ax = fig.add_subplot(1,1,1)\n",
    "ax.bar(range(len(counts)),counts,align='center')\n",
    "plt.xticks(range(len(counts)),counts.index, rotation='vertical')\n",
    "plt.title('Weapons')"
   ]
  },
  {
   "cell_type": "markdown",
   "metadata": {},
   "source": [
    "Defining the groups \"armed\" and \"unarmed\" in the new column \"in_general_armed\""
   ]
  },
  {
   "cell_type": "code",
   "execution_count": 229,
   "metadata": {
    "collapsed": false,
    "scrolled": true
   },
   "outputs": [],
   "source": [
    "new_series = pd.Series(index=range(0,police_killings.shape[0]))\n",
    "for i,ele in enumerate(new_series):\n",
    "    if police_killings['armed'][i] == 'No':\n",
    "        new_series[i] = 'unarmed'\n",
    "    elif police_killings['armed'][i] == 'Non-lethal firearm':\n",
    "        new_series[i] = 'unarmed'\n",
    "    else:\n",
    "        new_series[i] = 'armed'\n",
    "police_killings['in_general_armed'] = new_series"
   ]
  },
  {
   "cell_type": "code",
   "execution_count": 230,
   "metadata": {
    "collapsed": false
   },
   "outputs": [
    {
     "data": {
      "text/plain": [
       "<matplotlib.text.Text at 0x134643a89b0>"
      ]
     },
     "execution_count": 230,
     "metadata": {},
     "output_type": "execute_result"
    },
    {
     "data": {
      "image/png": "[encoded data removed]",
      "text/plain": [
       "<matplotlib.figure.Figure at 0x13463cdd048>"
      ]
     },
     "metadata": {},
     "output_type": "display_data"
    }
   ],
   "source": [
    "counts = police_killings['in_general_armed'].value_counts()\n",
    "fig = plt.figure(figsize=(8,8))\n",
    "ax = fig.add_subplot(1,1,1)\n",
    "ax.bar(range(len(counts)),counts,align='center')\n",
    "plt.xticks(range(len(counts)),counts.index, rotation='vertical')\n",
    "plt.title('Armed and unarmed victims')"
   ]
  },
  {
   "cell_type": "code",
   "execution_count": 231,
   "metadata": {
    "collapsed": false
   },
   "outputs": [
    {
     "data": {
      "text/plain": [
       "armed      0.751606\n",
       "unarmed    0.248394\n",
       "Name: in_general_armed, dtype: float64"
      ]
     },
     "execution_count": 231,
     "metadata": {},
     "output_type": "execute_result"
    }
   ],
   "source": [
    "counts/sum(counts)"
   ]
  },
  {
   "cell_type": "markdown",
   "metadata": {},
   "source": [
    "As one can see, most victims (75%) were actually armed themselves."
   ]
  },
  {
   "cell_type": "markdown",
   "metadata": {},
   "source": [
    "# What age-group was mostly victimized?"
   ]
  },
  {
   "cell_type": "markdown",
   "metadata": {},
   "source": [
    "Defining certain age groups"
   ]
  },
  {
   "cell_type": "code",
   "execution_count": 232,
   "metadata": {
    "collapsed": false
   },
   "outputs": [],
   "source": [
    "new_series = pd.Series(index=range(0,police_killings.shape[0]))\n",
    "for i,ele in enumerate(police_killings['age']):\n",
    "    if ele == 'Unknown':\n",
    "        continue\n",
    "    elif int(ele) <= 10:\n",
    "        new_series[i] = 'child'\n",
    "    elif int(ele) <= 18:\n",
    "        new_series[i] = 'adolescent'\n",
    "    elif int(ele) <= 60:\n",
    "        new_series[i] = 'adult'\n",
    "    elif int(ele) > 60:\n",
    "        new_series[i] = 'senior'\n",
    "police_killings['age_group'] = new_series"
   ]
  },
  {
   "cell_type": "code",
   "execution_count": 233,
   "metadata": {
    "collapsed": false
   },
   "outputs": [
    {
     "data": {
      "text/plain": [
       "<matplotlib.text.Text at 0x1346440a668>"
      ]
     },
     "execution_count": 233,
     "metadata": {},
     "output_type": "execute_result"
    },
    {
     "data": {
      "image/png": "[encoded data removed]",
      "text/plain": [
       "<matplotlib.figure.Figure at 0x13463cdd940>"
      ]
     },
     "metadata": {},
     "output_type": "display_data"
    }
   ],
   "source": [
    "counts = police_killings['age_group'].value_counts()\n",
    "fig = plt.figure(figsize=(8,8))\n",
    "ax = fig.add_subplot(1,1,1)\n",
    "ax.bar(range(len(counts)),counts,align='center')\n",
    "plt.xticks(range(len(counts)),counts.index, rotation='vertical')\n",
    "plt.title('Age groups')"
   ]
  },
  {
   "cell_type": "code",
   "execution_count": 234,
   "metadata": {
    "collapsed": false
   },
   "outputs": [
    {
     "data": {
      "text/plain": [
       "armed      10\n",
       "unarmed     7\n",
       "Name: in_general_armed, dtype: int64"
      ]
     },
     "execution_count": 234,
     "metadata": {},
     "output_type": "execute_result"
    }
   ],
   "source": [
    "police_killings[police_killings['age_group']=='adolescent']['in_general_armed'].value_counts()"
   ]
  },
  {
   "cell_type": "markdown",
   "metadata": {},
   "source": [
    "The data set includes no children but 17 teenagers (between 10 and 18 years old). 7 of these were unarmed or possessed a non-lethal firearm."
   ]
  },
  {
   "cell_type": "markdown",
   "metadata": {},
   "source": [
    "# Cause of death"
   ]
  },
  {
   "cell_type": "code",
   "execution_count": 268,
   "metadata": {
    "collapsed": false
   },
   "outputs": [
    {
     "data": {
      "text/plain": [
       "Gunshot              411\n",
       "Taser                 27\n",
       "Death in custody      14\n",
       "Struck by vehicle     12\n",
       "Unknown                3\n",
       "Name: cause, dtype: int64"
      ]
     },
     "execution_count": 268,
     "metadata": {},
     "output_type": "execute_result"
    }
   ],
   "source": [
    "police_killings['cause'].value_counts()"
   ]
  },
  {
   "cell_type": "markdown",
   "metadata": {},
   "source": [
    "Most people are shot to death."
   ]
  },
  {
   "cell_type": "markdown",
   "metadata": {},
   "source": [
    "# Shootings by regional personal income and household income"
   ]
  },
  {
   "cell_type": "markdown",
   "metadata": {},
   "source": [
    "## Personal income"
   ]
  },
  {
   "cell_type": "code",
   "execution_count": 235,
   "metadata": {
    "collapsed": false
   },
   "outputs": [],
   "source": [
    "police_killings_changed = police_killings[police_killings['p_income'] != '-']\n",
    "income = police_killings_changed['p_income'].astype('int64')"
   ]
  },
  {
   "cell_type": "code",
   "execution_count": 236,
   "metadata": {
    "collapsed": false
   },
   "outputs": [
    {
     "data": {
      "text/plain": [
       "<matplotlib.axes._subplots.AxesSubplot at 0x1346443b3c8>"
      ]
     },
     "execution_count": 236,
     "metadata": {},
     "output_type": "execute_result"
    },
    {
     "data": {
      "image/png": "[encoded data removed]",
      "text/plain": [
       "<matplotlib.figure.Figure at 0x13463ce3630>"
      ]
     },
     "metadata": {},
     "output_type": "display_data"
    }
   ],
   "source": [
    "income.hist(bins=20)"
   ]
  },
  {
   "cell_type": "code",
   "execution_count": 237,
   "metadata": {
    "collapsed": false
   },
   "outputs": [
    {
     "data": {
      "text/plain": [
       "22348.0"
      ]
     },
     "execution_count": 237,
     "metadata": {},
     "output_type": "execute_result"
    }
   ],
   "source": [
    "police_killings[\"p_income\"][police_killings[\"p_income\"] != \"-\"].astype(float).median()"
   ]
  },
  {
   "cell_type": "markdown",
   "metadata": {},
   "source": [
    "According to FRED, median personal income in the US is 30,240, and our median is 22,348, which means that shootings tend to happen in less affluent areas. Our sample size is relatively small, though, so it's hard to make sweeping conclusions."
   ]
  },
  {
   "cell_type": "markdown",
   "metadata": {},
   "source": [
    "## Household income"
   ]
  },
  {
   "cell_type": "code",
   "execution_count": 238,
   "metadata": {
    "collapsed": false
   },
   "outputs": [
    {
     "data": {
      "text/plain": [
       "<matplotlib.axes._subplots.AxesSubplot at 0x134644d2978>"
      ]
     },
     "execution_count": 238,
     "metadata": {},
     "output_type": "execute_result"
    },
    {
     "data": {
      "image/png": "[encoded data removed]",
      "text/plain": [
       "<matplotlib.figure.Figure at 0x134644bb208>"
      ]
     },
     "metadata": {},
     "output_type": "display_data"
    }
   ],
   "source": [
    "police_killings_changedh = police_killings[np.isnan(police_killings['h_income'])==False]\n",
    "incomeh = police_killings_changedh['h_income'].astype('int64')\n",
    "incomeh.hist(bins=20)"
   ]
  },
  {
   "cell_type": "code",
   "execution_count": 239,
   "metadata": {
    "collapsed": false
   },
   "outputs": [
    {
     "data": {
      "text/plain": [
       "42759.0"
      ]
     },
     "execution_count": 239,
     "metadata": {},
     "output_type": "execute_result"
    }
   ],
   "source": [
    "police_killings[\"h_income\"][np.isnan(police_killings['h_income'])==False].astype(float).median()"
   ]
  },
  {
   "cell_type": "markdown",
   "metadata": {},
   "source": [
    "According to the census, median income per houshold in 2015 was actually 56,516, although this dataset indicates 42,759. Therefore, this emphasizes the results for the personal income that the shootings happen in less affluent areas. Still the sample size is a bit too small to be sure about this result."
   ]
  },
  {
   "cell_type": "markdown",
   "metadata": {},
   "source": [
    "# Shootings by state"
   ]
  },
  {
   "cell_type": "markdown",
   "metadata": {},
   "source": [
    "Importing data about the state population and calculating how many killings happened per state FIPS code"
   ]
  },
  {
   "cell_type": "code",
   "execution_count": 240,
   "metadata": {
    "collapsed": true
   },
   "outputs": [],
   "source": [
    "state_pop = pd.read_csv('state_population.csv')\n",
    "counts = police_killings['state_fp'].value_counts()"
   ]
  },
  {
   "cell_type": "markdown",
   "metadata": {},
   "source": [
    "Defining a new dataframe consisting of the state FIPS codes and the value counts"
   ]
  },
  {
   "cell_type": "code",
   "execution_count": 241,
   "metadata": {
    "collapsed": false
   },
   "outputs": [],
   "source": [
    "states = pd.DataFrame({'STATE':counts.index, 'shootings': counts})"
   ]
  },
  {
   "cell_type": "code",
   "execution_count": 242,
   "metadata": {
    "collapsed": false,
    "scrolled": true
   },
   "outputs": [
    {
     "data": {
      "text/html": [
       "<div>\n",
       "<table border=\"1\" class=\"dataframe\">\n",
       "  <thead>\n",
       "    <tr style=\"text-align: right;\">\n",
       "      <th></th>\n",
       "      <th>STATE</th>\n",
       "      <th>shootings</th>\n",
       "    </tr>\n",
       "  </thead>\n",
       "  <tbody>\n",
       "    <tr>\n",
       "      <th>6</th>\n",
       "      <td>6</td>\n",
       "      <td>74</td>\n",
       "    </tr>\n",
       "    <tr>\n",
       "      <th>48</th>\n",
       "      <td>48</td>\n",
       "      <td>47</td>\n",
       "    </tr>\n",
       "    <tr>\n",
       "      <th>12</th>\n",
       "      <td>12</td>\n",
       "      <td>29</td>\n",
       "    </tr>\n",
       "    <tr>\n",
       "      <th>4</th>\n",
       "      <td>4</td>\n",
       "      <td>25</td>\n",
       "    </tr>\n",
       "    <tr>\n",
       "      <th>40</th>\n",
       "      <td>40</td>\n",
       "      <td>22</td>\n",
       "    </tr>\n",
       "  </tbody>\n",
       "</table>\n",
       "</div>"
      ],
      "text/plain": [
       "    STATE  shootings\n",
       "6       6         74\n",
       "48     48         47\n",
       "12     12         29\n",
       "4       4         25\n",
       "40     40         22"
      ]
     },
     "execution_count": 242,
     "metadata": {},
     "output_type": "execute_result"
    }
   ],
   "source": [
    "states.head()"
   ]
  },
  {
   "cell_type": "markdown",
   "metadata": {},
   "source": [
    "Introducing the new data frame to the population data frame"
   ]
  },
  {
   "cell_type": "code",
   "execution_count": 243,
   "metadata": {
    "collapsed": false,
    "scrolled": true
   },
   "outputs": [
    {
     "data": {
      "text/html": [
       "<div>\n",
       "<table border=\"1\" class=\"dataframe\">\n",
       "  <thead>\n",
       "    <tr style=\"text-align: right;\">\n",
       "      <th></th>\n",
       "      <th>STATE</th>\n",
       "      <th>shootings</th>\n",
       "      <th>SUMLEV</th>\n",
       "      <th>REGION</th>\n",
       "      <th>DIVISION</th>\n",
       "      <th>NAME</th>\n",
       "      <th>POPESTIMATE2015</th>\n",
       "      <th>POPEST18PLUS2015</th>\n",
       "      <th>PCNT_POPEST18PLUS</th>\n",
       "    </tr>\n",
       "  </thead>\n",
       "  <tbody>\n",
       "    <tr>\n",
       "      <th>0</th>\n",
       "      <td>6</td>\n",
       "      <td>74</td>\n",
       "      <td>40</td>\n",
       "      <td>4</td>\n",
       "      <td>9</td>\n",
       "      <td>California</td>\n",
       "      <td>39144818</td>\n",
       "      <td>30023902</td>\n",
       "      <td>76.7</td>\n",
       "    </tr>\n",
       "    <tr>\n",
       "      <th>1</th>\n",
       "      <td>48</td>\n",
       "      <td>47</td>\n",
       "      <td>40</td>\n",
       "      <td>3</td>\n",
       "      <td>7</td>\n",
       "      <td>Texas</td>\n",
       "      <td>27469114</td>\n",
       "      <td>20257343</td>\n",
       "      <td>73.7</td>\n",
       "    </tr>\n",
       "    <tr>\n",
       "      <th>2</th>\n",
       "      <td>12</td>\n",
       "      <td>29</td>\n",
       "      <td>40</td>\n",
       "      <td>3</td>\n",
       "      <td>5</td>\n",
       "      <td>Florida</td>\n",
       "      <td>20271272</td>\n",
       "      <td>16166143</td>\n",
       "      <td>79.7</td>\n",
       "    </tr>\n",
       "    <tr>\n",
       "      <th>3</th>\n",
       "      <td>4</td>\n",
       "      <td>25</td>\n",
       "      <td>40</td>\n",
       "      <td>4</td>\n",
       "      <td>8</td>\n",
       "      <td>Arizona</td>\n",
       "      <td>6828065</td>\n",
       "      <td>5205215</td>\n",
       "      <td>76.2</td>\n",
       "    </tr>\n",
       "    <tr>\n",
       "      <th>4</th>\n",
       "      <td>40</td>\n",
       "      <td>22</td>\n",
       "      <td>40</td>\n",
       "      <td>3</td>\n",
       "      <td>7</td>\n",
       "      <td>Oklahoma</td>\n",
       "      <td>3911338</td>\n",
       "      <td>2950017</td>\n",
       "      <td>75.4</td>\n",
       "    </tr>\n",
       "  </tbody>\n",
       "</table>\n",
       "</div>"
      ],
      "text/plain": [
       "   STATE  shootings  SUMLEV REGION DIVISION        NAME  POPESTIMATE2015  \\\n",
       "0      6         74      40      4        9  California         39144818   \n",
       "1     48         47      40      3        7       Texas         27469114   \n",
       "2     12         29      40      3        5     Florida         20271272   \n",
       "3      4         25      40      4        8     Arizona          6828065   \n",
       "4     40         22      40      3        7    Oklahoma          3911338   \n",
       "\n",
       "   POPEST18PLUS2015  PCNT_POPEST18PLUS  \n",
       "0          30023902               76.7  \n",
       "1          20257343               73.7  \n",
       "2          16166143               79.7  \n",
       "3           5205215               76.2  \n",
       "4           2950017               75.4  "
      ]
     },
     "execution_count": 243,
     "metadata": {},
     "output_type": "execute_result"
    }
   ],
   "source": [
    "states = states.merge(state_pop, on='STATE')\n",
    "states.head()"
   ]
  },
  {
   "cell_type": "markdown",
   "metadata": {},
   "source": [
    "Introducting two new columns to the data frame. One, which holds the population sizes in millions and one, which holds the rates of the number of shootings per state, since the states have different sizes."
   ]
  },
  {
   "cell_type": "code",
   "execution_count": 244,
   "metadata": {
    "collapsed": false
   },
   "outputs": [],
   "source": [
    "states[\"pop_millions\"] = states[\"POPESTIMATE2015\"] / 1000000\n",
    "states['rate'] = states['shootings']/states['pop_millions']"
   ]
  },
  {
   "cell_type": "markdown",
   "metadata": {},
   "source": [
    "Sort by rate to find the states with the most shootings"
   ]
  },
  {
   "cell_type": "code",
   "execution_count": 245,
   "metadata": {
    "collapsed": false,
    "scrolled": true
   },
   "outputs": [
    {
     "data": {
      "text/html": [
       "<div>\n",
       "<table border=\"1\" class=\"dataframe\">\n",
       "  <thead>\n",
       "    <tr style=\"text-align: right;\">\n",
       "      <th></th>\n",
       "      <th>STATE</th>\n",
       "      <th>shootings</th>\n",
       "      <th>SUMLEV</th>\n",
       "      <th>REGION</th>\n",
       "      <th>DIVISION</th>\n",
       "      <th>NAME</th>\n",
       "      <th>POPESTIMATE2015</th>\n",
       "      <th>POPEST18PLUS2015</th>\n",
       "      <th>PCNT_POPEST18PLUS</th>\n",
       "      <th>pop_millions</th>\n",
       "      <th>rate</th>\n",
       "    </tr>\n",
       "  </thead>\n",
       "  <tbody>\n",
       "    <tr>\n",
       "      <th>4</th>\n",
       "      <td>40</td>\n",
       "      <td>22</td>\n",
       "      <td>40</td>\n",
       "      <td>3</td>\n",
       "      <td>7</td>\n",
       "      <td>Oklahoma</td>\n",
       "      <td>3911338</td>\n",
       "      <td>2950017</td>\n",
       "      <td>75.4</td>\n",
       "      <td>3.911338</td>\n",
       "      <td>5.624674</td>\n",
       "    </tr>\n",
       "    <tr>\n",
       "      <th>3</th>\n",
       "      <td>4</td>\n",
       "      <td>25</td>\n",
       "      <td>40</td>\n",
       "      <td>4</td>\n",
       "      <td>8</td>\n",
       "      <td>Arizona</td>\n",
       "      <td>6828065</td>\n",
       "      <td>5205215</td>\n",
       "      <td>76.2</td>\n",
       "      <td>6.828065</td>\n",
       "      <td>3.661359</td>\n",
       "    </tr>\n",
       "    <tr>\n",
       "      <th>27</th>\n",
       "      <td>31</td>\n",
       "      <td>6</td>\n",
       "      <td>40</td>\n",
       "      <td>2</td>\n",
       "      <td>4</td>\n",
       "      <td>Nebraska</td>\n",
       "      <td>1896190</td>\n",
       "      <td>1425853</td>\n",
       "      <td>75.2</td>\n",
       "      <td>1.896190</td>\n",
       "      <td>3.164240</td>\n",
       "    </tr>\n",
       "    <tr>\n",
       "      <th>34</th>\n",
       "      <td>15</td>\n",
       "      <td>4</td>\n",
       "      <td>40</td>\n",
       "      <td>4</td>\n",
       "      <td>9</td>\n",
       "      <td>Hawaii</td>\n",
       "      <td>1431603</td>\n",
       "      <td>1120770</td>\n",
       "      <td>78.3</td>\n",
       "      <td>1.431603</td>\n",
       "      <td>2.794071</td>\n",
       "    </tr>\n",
       "    <tr>\n",
       "      <th>39</th>\n",
       "      <td>2</td>\n",
       "      <td>2</td>\n",
       "      <td>40</td>\n",
       "      <td>4</td>\n",
       "      <td>9</td>\n",
       "      <td>Alaska</td>\n",
       "      <td>738432</td>\n",
       "      <td>552166</td>\n",
       "      <td>74.8</td>\n",
       "      <td>0.738432</td>\n",
       "      <td>2.708442</td>\n",
       "    </tr>\n",
       "    <tr>\n",
       "      <th>33</th>\n",
       "      <td>16</td>\n",
       "      <td>4</td>\n",
       "      <td>40</td>\n",
       "      <td>4</td>\n",
       "      <td>8</td>\n",
       "      <td>Idaho</td>\n",
       "      <td>1654930</td>\n",
       "      <td>1222093</td>\n",
       "      <td>73.8</td>\n",
       "      <td>1.654930</td>\n",
       "      <td>2.417021</td>\n",
       "    </tr>\n",
       "    <tr>\n",
       "      <th>32</th>\n",
       "      <td>35</td>\n",
       "      <td>5</td>\n",
       "      <td>40</td>\n",
       "      <td>4</td>\n",
       "      <td>8</td>\n",
       "      <td>New Mexico</td>\n",
       "      <td>2085109</td>\n",
       "      <td>1588201</td>\n",
       "      <td>76.2</td>\n",
       "      <td>2.085109</td>\n",
       "      <td>2.397956</td>\n",
       "    </tr>\n",
       "    <tr>\n",
       "      <th>10</th>\n",
       "      <td>22</td>\n",
       "      <td>11</td>\n",
       "      <td>40</td>\n",
       "      <td>3</td>\n",
       "      <td>7</td>\n",
       "      <td>Louisiana</td>\n",
       "      <td>4670724</td>\n",
       "      <td>3555911</td>\n",
       "      <td>76.1</td>\n",
       "      <td>4.670724</td>\n",
       "      <td>2.355095</td>\n",
       "    </tr>\n",
       "    <tr>\n",
       "      <th>7</th>\n",
       "      <td>8</td>\n",
       "      <td>12</td>\n",
       "      <td>40</td>\n",
       "      <td>4</td>\n",
       "      <td>8</td>\n",
       "      <td>Colorado</td>\n",
       "      <td>5456574</td>\n",
       "      <td>4199509</td>\n",
       "      <td>77.0</td>\n",
       "      <td>5.456574</td>\n",
       "      <td>2.199182</td>\n",
       "    </tr>\n",
       "    <tr>\n",
       "      <th>41</th>\n",
       "      <td>10</td>\n",
       "      <td>2</td>\n",
       "      <td>40</td>\n",
       "      <td>3</td>\n",
       "      <td>5</td>\n",
       "      <td>Delaware</td>\n",
       "      <td>945934</td>\n",
       "      <td>741548</td>\n",
       "      <td>78.4</td>\n",
       "      <td>0.945934</td>\n",
       "      <td>2.114312</td>\n",
       "    </tr>\n",
       "    <tr>\n",
       "      <th>24</th>\n",
       "      <td>20</td>\n",
       "      <td>6</td>\n",
       "      <td>40</td>\n",
       "      <td>2</td>\n",
       "      <td>4</td>\n",
       "      <td>Kansas</td>\n",
       "      <td>2911641</td>\n",
       "      <td>2192084</td>\n",
       "      <td>75.3</td>\n",
       "      <td>2.911641</td>\n",
       "      <td>2.060694</td>\n",
       "    </tr>\n",
       "    <tr>\n",
       "      <th>26</th>\n",
       "      <td>28</td>\n",
       "      <td>6</td>\n",
       "      <td>40</td>\n",
       "      <td>3</td>\n",
       "      <td>6</td>\n",
       "      <td>Mississippi</td>\n",
       "      <td>2992333</td>\n",
       "      <td>2265485</td>\n",
       "      <td>75.7</td>\n",
       "      <td>2.992333</td>\n",
       "      <td>2.005124</td>\n",
       "    </tr>\n",
       "    <tr>\n",
       "      <th>19</th>\n",
       "      <td>41</td>\n",
       "      <td>8</td>\n",
       "      <td>40</td>\n",
       "      <td>4</td>\n",
       "      <td>9</td>\n",
       "      <td>Oregon</td>\n",
       "      <td>4028977</td>\n",
       "      <td>3166121</td>\n",
       "      <td>78.6</td>\n",
       "      <td>4.028977</td>\n",
       "      <td>1.985616</td>\n",
       "    </tr>\n",
       "    <tr>\n",
       "      <th>37</th>\n",
       "      <td>30</td>\n",
       "      <td>2</td>\n",
       "      <td>40</td>\n",
       "      <td>4</td>\n",
       "      <td>8</td>\n",
       "      <td>Montana</td>\n",
       "      <td>1032949</td>\n",
       "      <td>806529</td>\n",
       "      <td>78.1</td>\n",
       "      <td>1.032949</td>\n",
       "      <td>1.936204</td>\n",
       "    </tr>\n",
       "    <tr>\n",
       "      <th>0</th>\n",
       "      <td>6</td>\n",
       "      <td>74</td>\n",
       "      <td>40</td>\n",
       "      <td>4</td>\n",
       "      <td>9</td>\n",
       "      <td>California</td>\n",
       "      <td>39144818</td>\n",
       "      <td>30023902</td>\n",
       "      <td>76.7</td>\n",
       "      <td>39.144818</td>\n",
       "      <td>1.890416</td>\n",
       "    </tr>\n",
       "    <tr>\n",
       "      <th>17</th>\n",
       "      <td>45</td>\n",
       "      <td>9</td>\n",
       "      <td>40</td>\n",
       "      <td>3</td>\n",
       "      <td>5</td>\n",
       "      <td>South Carolina</td>\n",
       "      <td>4896146</td>\n",
       "      <td>3804558</td>\n",
       "      <td>77.7</td>\n",
       "      <td>4.896146</td>\n",
       "      <td>1.838180</td>\n",
       "    </tr>\n",
       "    <tr>\n",
       "      <th>1</th>\n",
       "      <td>48</td>\n",
       "      <td>47</td>\n",
       "      <td>40</td>\n",
       "      <td>3</td>\n",
       "      <td>7</td>\n",
       "      <td>Texas</td>\n",
       "      <td>27469114</td>\n",
       "      <td>20257343</td>\n",
       "      <td>73.7</td>\n",
       "      <td>27.469114</td>\n",
       "      <td>1.711013</td>\n",
       "    </tr>\n",
       "    <tr>\n",
       "      <th>46</th>\n",
       "      <td>56</td>\n",
       "      <td>1</td>\n",
       "      <td>40</td>\n",
       "      <td>4</td>\n",
       "      <td>8</td>\n",
       "      <td>Wyoming</td>\n",
       "      <td>586107</td>\n",
       "      <td>447212</td>\n",
       "      <td>76.3</td>\n",
       "      <td>0.586107</td>\n",
       "      <td>1.706173</td>\n",
       "    </tr>\n",
       "    <tr>\n",
       "      <th>30</th>\n",
       "      <td>49</td>\n",
       "      <td>5</td>\n",
       "      <td>40</td>\n",
       "      <td>4</td>\n",
       "      <td>8</td>\n",
       "      <td>Utah</td>\n",
       "      <td>2995919</td>\n",
       "      <td>2083423</td>\n",
       "      <td>69.5</td>\n",
       "      <td>2.995919</td>\n",
       "      <td>1.668937</td>\n",
       "    </tr>\n",
       "    <tr>\n",
       "      <th>14</th>\n",
       "      <td>24</td>\n",
       "      <td>10</td>\n",
       "      <td>40</td>\n",
       "      <td>3</td>\n",
       "      <td>5</td>\n",
       "      <td>Maryland</td>\n",
       "      <td>6006401</td>\n",
       "      <td>4658175</td>\n",
       "      <td>77.6</td>\n",
       "      <td>6.006401</td>\n",
       "      <td>1.664891</td>\n",
       "    </tr>\n",
       "    <tr>\n",
       "      <th>21</th>\n",
       "      <td>1</td>\n",
       "      <td>8</td>\n",
       "      <td>40</td>\n",
       "      <td>3</td>\n",
       "      <td>6</td>\n",
       "      <td>Alabama</td>\n",
       "      <td>4858979</td>\n",
       "      <td>3755483</td>\n",
       "      <td>77.3</td>\n",
       "      <td>4.858979</td>\n",
       "      <td>1.646436</td>\n",
       "    </tr>\n",
       "    <tr>\n",
       "      <th>13</th>\n",
       "      <td>29</td>\n",
       "      <td>10</td>\n",
       "      <td>40</td>\n",
       "      <td>2</td>\n",
       "      <td>4</td>\n",
       "      <td>Missouri</td>\n",
       "      <td>6083672</td>\n",
       "      <td>4692196</td>\n",
       "      <td>77.1</td>\n",
       "      <td>6.083672</td>\n",
       "      <td>1.643744</td>\n",
       "    </tr>\n",
       "    <tr>\n",
       "      <th>23</th>\n",
       "      <td>21</td>\n",
       "      <td>7</td>\n",
       "      <td>40</td>\n",
       "      <td>3</td>\n",
       "      <td>6</td>\n",
       "      <td>Kentucky</td>\n",
       "      <td>4425092</td>\n",
       "      <td>3413425</td>\n",
       "      <td>77.1</td>\n",
       "      <td>4.425092</td>\n",
       "      <td>1.581888</td>\n",
       "    </tr>\n",
       "    <tr>\n",
       "      <th>5</th>\n",
       "      <td>13</td>\n",
       "      <td>16</td>\n",
       "      <td>40</td>\n",
       "      <td>3</td>\n",
       "      <td>5</td>\n",
       "      <td>Georgia</td>\n",
       "      <td>10214860</td>\n",
       "      <td>7710688</td>\n",
       "      <td>75.5</td>\n",
       "      <td>10.214860</td>\n",
       "      <td>1.566346</td>\n",
       "    </tr>\n",
       "    <tr>\n",
       "      <th>9</th>\n",
       "      <td>53</td>\n",
       "      <td>11</td>\n",
       "      <td>40</td>\n",
       "      <td>4</td>\n",
       "      <td>9</td>\n",
       "      <td>Washington</td>\n",
       "      <td>7170351</td>\n",
       "      <td>5558509</td>\n",
       "      <td>77.5</td>\n",
       "      <td>7.170351</td>\n",
       "      <td>1.534095</td>\n",
       "    </tr>\n",
       "    <tr>\n",
       "      <th>44</th>\n",
       "      <td>11</td>\n",
       "      <td>1</td>\n",
       "      <td>40</td>\n",
       "      <td>3</td>\n",
       "      <td>5</td>\n",
       "      <td>District of Columbia</td>\n",
       "      <td>672228</td>\n",
       "      <td>554121</td>\n",
       "      <td>82.4</td>\n",
       "      <td>0.672228</td>\n",
       "      <td>1.487591</td>\n",
       "    </tr>\n",
       "    <tr>\n",
       "      <th>2</th>\n",
       "      <td>12</td>\n",
       "      <td>29</td>\n",
       "      <td>40</td>\n",
       "      <td>3</td>\n",
       "      <td>5</td>\n",
       "      <td>Florida</td>\n",
       "      <td>20271272</td>\n",
       "      <td>16166143</td>\n",
       "      <td>79.7</td>\n",
       "      <td>20.271272</td>\n",
       "      <td>1.430596</td>\n",
       "    </tr>\n",
       "    <tr>\n",
       "      <th>35</th>\n",
       "      <td>5</td>\n",
       "      <td>4</td>\n",
       "      <td>40</td>\n",
       "      <td>3</td>\n",
       "      <td>7</td>\n",
       "      <td>Arkansas</td>\n",
       "      <td>2978204</td>\n",
       "      <td>2272904</td>\n",
       "      <td>76.3</td>\n",
       "      <td>2.978204</td>\n",
       "      <td>1.343091</td>\n",
       "    </tr>\n",
       "    <tr>\n",
       "      <th>8</th>\n",
       "      <td>34</td>\n",
       "      <td>11</td>\n",
       "      <td>40</td>\n",
       "      <td>1</td>\n",
       "      <td>2</td>\n",
       "      <td>New Jersey</td>\n",
       "      <td>8958013</td>\n",
       "      <td>6959192</td>\n",
       "      <td>77.7</td>\n",
       "      <td>8.958013</td>\n",
       "      <td>1.227951</td>\n",
       "    </tr>\n",
       "    <tr>\n",
       "      <th>20</th>\n",
       "      <td>18</td>\n",
       "      <td>8</td>\n",
       "      <td>40</td>\n",
       "      <td>2</td>\n",
       "      <td>3</td>\n",
       "      <td>Indiana</td>\n",
       "      <td>6619680</td>\n",
       "      <td>5040224</td>\n",
       "      <td>76.1</td>\n",
       "      <td>6.619680</td>\n",
       "      <td>1.208518</td>\n",
       "    </tr>\n",
       "    <tr>\n",
       "      <th>25</th>\n",
       "      <td>27</td>\n",
       "      <td>6</td>\n",
       "      <td>40</td>\n",
       "      <td>2</td>\n",
       "      <td>4</td>\n",
       "      <td>Minnesota</td>\n",
       "      <td>5489594</td>\n",
       "      <td>4205207</td>\n",
       "      <td>76.6</td>\n",
       "      <td>5.489594</td>\n",
       "      <td>1.092977</td>\n",
       "    </tr>\n",
       "    <tr>\n",
       "      <th>40</th>\n",
       "      <td>54</td>\n",
       "      <td>2</td>\n",
       "      <td>40</td>\n",
       "      <td>3</td>\n",
       "      <td>5</td>\n",
       "      <td>West Virginia</td>\n",
       "      <td>1844128</td>\n",
       "      <td>1464532</td>\n",
       "      <td>79.4</td>\n",
       "      <td>1.844128</td>\n",
       "      <td>1.084523</td>\n",
       "    </tr>\n",
       "    <tr>\n",
       "      <th>18</th>\n",
       "      <td>51</td>\n",
       "      <td>9</td>\n",
       "      <td>40</td>\n",
       "      <td>3</td>\n",
       "      <td>5</td>\n",
       "      <td>Virginia</td>\n",
       "      <td>8382993</td>\n",
       "      <td>6512571</td>\n",
       "      <td>77.7</td>\n",
       "      <td>8.382993</td>\n",
       "      <td>1.073602</td>\n",
       "    </tr>\n",
       "    <tr>\n",
       "      <th>36</th>\n",
       "      <td>32</td>\n",
       "      <td>3</td>\n",
       "      <td>40</td>\n",
       "      <td>4</td>\n",
       "      <td>8</td>\n",
       "      <td>Nevada</td>\n",
       "      <td>2890845</td>\n",
       "      <td>2221681</td>\n",
       "      <td>76.9</td>\n",
       "      <td>2.890845</td>\n",
       "      <td>1.037759</td>\n",
       "    </tr>\n",
       "    <tr>\n",
       "      <th>15</th>\n",
       "      <td>37</td>\n",
       "      <td>10</td>\n",
       "      <td>40</td>\n",
       "      <td>3</td>\n",
       "      <td>5</td>\n",
       "      <td>North Carolina</td>\n",
       "      <td>10042802</td>\n",
       "      <td>7752234</td>\n",
       "      <td>77.2</td>\n",
       "      <td>10.042802</td>\n",
       "      <td>0.995738</td>\n",
       "    </tr>\n",
       "    <tr>\n",
       "      <th>28</th>\n",
       "      <td>47</td>\n",
       "      <td>6</td>\n",
       "      <td>40</td>\n",
       "      <td>3</td>\n",
       "      <td>6</td>\n",
       "      <td>Tennessee</td>\n",
       "      <td>6600299</td>\n",
       "      <td>5102688</td>\n",
       "      <td>77.3</td>\n",
       "      <td>6.600299</td>\n",
       "      <td>0.909050</td>\n",
       "    </tr>\n",
       "    <tr>\n",
       "      <th>16</th>\n",
       "      <td>26</td>\n",
       "      <td>9</td>\n",
       "      <td>40</td>\n",
       "      <td>2</td>\n",
       "      <td>3</td>\n",
       "      <td>Michigan</td>\n",
       "      <td>9922576</td>\n",
       "      <td>7715272</td>\n",
       "      <td>77.8</td>\n",
       "      <td>9.922576</td>\n",
       "      <td>0.907023</td>\n",
       "    </tr>\n",
       "    <tr>\n",
       "      <th>31</th>\n",
       "      <td>55</td>\n",
       "      <td>5</td>\n",
       "      <td>40</td>\n",
       "      <td>2</td>\n",
       "      <td>3</td>\n",
       "      <td>Wisconsin</td>\n",
       "      <td>5771337</td>\n",
       "      <td>4476711</td>\n",
       "      <td>77.6</td>\n",
       "      <td>5.771337</td>\n",
       "      <td>0.866350</td>\n",
       "    </tr>\n",
       "    <tr>\n",
       "      <th>12</th>\n",
       "      <td>39</td>\n",
       "      <td>10</td>\n",
       "      <td>40</td>\n",
       "      <td>2</td>\n",
       "      <td>3</td>\n",
       "      <td>Ohio</td>\n",
       "      <td>11613423</td>\n",
       "      <td>8984946</td>\n",
       "      <td>77.4</td>\n",
       "      <td>11.613423</td>\n",
       "      <td>0.861073</td>\n",
       "    </tr>\n",
       "    <tr>\n",
       "      <th>11</th>\n",
       "      <td>17</td>\n",
       "      <td>11</td>\n",
       "      <td>40</td>\n",
       "      <td>2</td>\n",
       "      <td>3</td>\n",
       "      <td>Illinois</td>\n",
       "      <td>12859995</td>\n",
       "      <td>9901322</td>\n",
       "      <td>77.0</td>\n",
       "      <td>12.859995</td>\n",
       "      <td>0.855366</td>\n",
       "    </tr>\n",
       "    <tr>\n",
       "      <th>45</th>\n",
       "      <td>23</td>\n",
       "      <td>1</td>\n",
       "      <td>40</td>\n",
       "      <td>1</td>\n",
       "      <td>1</td>\n",
       "      <td>Maine</td>\n",
       "      <td>1329328</td>\n",
       "      <td>1072948</td>\n",
       "      <td>80.7</td>\n",
       "      <td>1.329328</td>\n",
       "      <td>0.752260</td>\n",
       "    </tr>\n",
       "    <tr>\n",
       "      <th>42</th>\n",
       "      <td>33</td>\n",
       "      <td>1</td>\n",
       "      <td>40</td>\n",
       "      <td>1</td>\n",
       "      <td>1</td>\n",
       "      <td>New Hampshire</td>\n",
       "      <td>1330608</td>\n",
       "      <td>1066610</td>\n",
       "      <td>80.2</td>\n",
       "      <td>1.330608</td>\n",
       "      <td>0.751536</td>\n",
       "    </tr>\n",
       "    <tr>\n",
       "      <th>29</th>\n",
       "      <td>25</td>\n",
       "      <td>5</td>\n",
       "      <td>40</td>\n",
       "      <td>1</td>\n",
       "      <td>1</td>\n",
       "      <td>Massachusetts</td>\n",
       "      <td>6794422</td>\n",
       "      <td>5407335</td>\n",
       "      <td>79.6</td>\n",
       "      <td>6.794422</td>\n",
       "      <td>0.735898</td>\n",
       "    </tr>\n",
       "    <tr>\n",
       "      <th>6</th>\n",
       "      <td>36</td>\n",
       "      <td>13</td>\n",
       "      <td>40</td>\n",
       "      <td>1</td>\n",
       "      <td>2</td>\n",
       "      <td>New York</td>\n",
       "      <td>19795791</td>\n",
       "      <td>15584974</td>\n",
       "      <td>78.7</td>\n",
       "      <td>19.795791</td>\n",
       "      <td>0.656705</td>\n",
       "    </tr>\n",
       "    <tr>\n",
       "      <th>38</th>\n",
       "      <td>19</td>\n",
       "      <td>2</td>\n",
       "      <td>40</td>\n",
       "      <td>2</td>\n",
       "      <td>4</td>\n",
       "      <td>Iowa</td>\n",
       "      <td>3123899</td>\n",
       "      <td>2395103</td>\n",
       "      <td>76.7</td>\n",
       "      <td>3.123899</td>\n",
       "      <td>0.640226</td>\n",
       "    </tr>\n",
       "    <tr>\n",
       "      <th>22</th>\n",
       "      <td>42</td>\n",
       "      <td>7</td>\n",
       "      <td>40</td>\n",
       "      <td>1</td>\n",
       "      <td>2</td>\n",
       "      <td>Pennsylvania</td>\n",
       "      <td>12802503</td>\n",
       "      <td>10112229</td>\n",
       "      <td>79.0</td>\n",
       "      <td>12.802503</td>\n",
       "      <td>0.546768</td>\n",
       "    </tr>\n",
       "    <tr>\n",
       "      <th>43</th>\n",
       "      <td>9</td>\n",
       "      <td>1</td>\n",
       "      <td>40</td>\n",
       "      <td>1</td>\n",
       "      <td>1</td>\n",
       "      <td>Connecticut</td>\n",
       "      <td>3590886</td>\n",
       "      <td>2826827</td>\n",
       "      <td>78.7</td>\n",
       "      <td>3.590886</td>\n",
       "      <td>0.278483</td>\n",
       "    </tr>\n",
       "  </tbody>\n",
       "</table>\n",
       "</div>"
      ],
      "text/plain": [
       "    STATE  shootings  SUMLEV REGION DIVISION                  NAME  \\\n",
       "4      40         22      40      3        7              Oklahoma   \n",
       "3       4         25      40      4        8               Arizona   \n",
       "27     31          6      40      2        4              Nebraska   \n",
       "34     15          4      40      4        9                Hawaii   \n",
       "39      2          2      40      4        9                Alaska   \n",
       "33     16          4      40      4        8                 Idaho   \n",
       "32     35          5      40      4        8            New Mexico   \n",
       "10     22         11      40      3        7             Louisiana   \n",
       "7       8         12      40      4        8              Colorado   \n",
       "41     10          2      40      3        5              Delaware   \n",
       "24     20          6      40      2        4                Kansas   \n",
       "26     28          6      40      3        6           Mississippi   \n",
       "19     41          8      40      4        9                Oregon   \n",
       "37     30          2      40      4        8               Montana   \n",
       "0       6         74      40      4        9            California   \n",
       "17     45          9      40      3        5        South Carolina   \n",
       "1      48         47      40      3        7                 Texas   \n",
       "46     56          1      40      4        8               Wyoming   \n",
       "30     49          5      40      4        8                  Utah   \n",
       "14     24         10      40      3        5              Maryland   \n",
       "21      1          8      40      3        6               Alabama   \n",
       "13     29         10      40      2        4              Missouri   \n",
       "23     21          7      40      3        6              Kentucky   \n",
       "5      13         16      40      3        5               Georgia   \n",
       "9      53         11      40      4        9            Washington   \n",
       "44     11          1      40      3        5  District of Columbia   \n",
       "2      12         29      40      3        5               Florida   \n",
       "35      5          4      40      3        7              Arkansas   \n",
       "8      34         11      40      1        2            New Jersey   \n",
       "20     18          8      40      2        3               Indiana   \n",
       "25     27          6      40      2        4             Minnesota   \n",
       "40     54          2      40      3        5         West Virginia   \n",
       "18     51          9      40      3        5              Virginia   \n",
       "36     32          3      40      4        8                Nevada   \n",
       "15     37         10      40      3        5        North Carolina   \n",
       "28     47          6      40      3        6             Tennessee   \n",
       "16     26          9      40      2        3              Michigan   \n",
       "31     55          5      40      2        3             Wisconsin   \n",
       "12     39         10      40      2        3                  Ohio   \n",
       "11     17         11      40      2        3              Illinois   \n",
       "45     23          1      40      1        1                 Maine   \n",
       "42     33          1      40      1        1         New Hampshire   \n",
       "29     25          5      40      1        1         Massachusetts   \n",
       "6      36         13      40      1        2              New York   \n",
       "38     19          2      40      2        4                  Iowa   \n",
       "22     42          7      40      1        2          Pennsylvania   \n",
       "43      9          1      40      1        1           Connecticut   \n",
       "\n",
       "    POPESTIMATE2015  POPEST18PLUS2015  PCNT_POPEST18PLUS  pop_millions  \\\n",
       "4           3911338           2950017               75.4      3.911338   \n",
       "3           6828065           5205215               76.2      6.828065   \n",
       "27          1896190           1425853               75.2      1.896190   \n",
       "34          1431603           1120770               78.3      1.431603   \n",
       "39           738432            552166               74.8      0.738432   \n",
       "33          1654930           1222093               73.8      1.654930   \n",
       "32          2085109           1588201               76.2      2.085109   \n",
       "10          4670724           3555911               76.1      4.670724   \n",
       "7           5456574           4199509               77.0      5.456574   \n",
       "41           945934            741548               78.4      0.945934   \n",
       "24          2911641           2192084               75.3      2.911641   \n",
       "26          2992333           2265485               75.7      2.992333   \n",
       "19          4028977           3166121               78.6      4.028977   \n",
       "37          1032949            806529               78.1      1.032949   \n",
       "0          39144818          30023902               76.7     39.144818   \n",
       "17          4896146           3804558               77.7      4.896146   \n",
       "1          27469114          20257343               73.7     27.469114   \n",
       "46           586107            447212               76.3      0.586107   \n",
       "30          2995919           2083423               69.5      2.995919   \n",
       "14          6006401           4658175               77.6      6.006401   \n",
       "21          4858979           3755483               77.3      4.858979   \n",
       "13          6083672           4692196               77.1      6.083672   \n",
       "23          4425092           3413425               77.1      4.425092   \n",
       "5          10214860           7710688               75.5     10.214860   \n",
       "9           7170351           5558509               77.5      7.170351   \n",
       "44           672228            554121               82.4      0.672228   \n",
       "2          20271272          16166143               79.7     20.271272   \n",
       "35          2978204           2272904               76.3      2.978204   \n",
       "8           8958013           6959192               77.7      8.958013   \n",
       "20          6619680           5040224               76.1      6.619680   \n",
       "25          5489594           4205207               76.6      5.489594   \n",
       "40          1844128           1464532               79.4      1.844128   \n",
       "18          8382993           6512571               77.7      8.382993   \n",
       "36          2890845           2221681               76.9      2.890845   \n",
       "15         10042802           7752234               77.2     10.042802   \n",
       "28          6600299           5102688               77.3      6.600299   \n",
       "16          9922576           7715272               77.8      9.922576   \n",
       "31          5771337           4476711               77.6      5.771337   \n",
       "12         11613423           8984946               77.4     11.613423   \n",
       "11         12859995           9901322               77.0     12.859995   \n",
       "45          1329328           1072948               80.7      1.329328   \n",
       "42          1330608           1066610               80.2      1.330608   \n",
       "29          6794422           5407335               79.6      6.794422   \n",
       "6          19795791          15584974               78.7     19.795791   \n",
       "38          3123899           2395103               76.7      3.123899   \n",
       "22         12802503          10112229               79.0     12.802503   \n",
       "43          3590886           2826827               78.7      3.590886   \n",
       "\n",
       "        rate  \n",
       "4   5.624674  \n",
       "3   3.661359  \n",
       "27  3.164240  \n",
       "34  2.794071  \n",
       "39  2.708442  \n",
       "33  2.417021  \n",
       "32  2.397956  \n",
       "10  2.355095  \n",
       "7   2.199182  \n",
       "41  2.114312  \n",
       "24  2.060694  \n",
       "26  2.005124  \n",
       "19  1.985616  \n",
       "37  1.936204  \n",
       "0   1.890416  \n",
       "17  1.838180  \n",
       "1   1.711013  \n",
       "46  1.706173  \n",
       "30  1.668937  \n",
       "14  1.664891  \n",
       "21  1.646436  \n",
       "13  1.643744  \n",
       "23  1.581888  \n",
       "5   1.566346  \n",
       "9   1.534095  \n",
       "44  1.487591  \n",
       "2   1.430596  \n",
       "35  1.343091  \n",
       "8   1.227951  \n",
       "20  1.208518  \n",
       "25  1.092977  \n",
       "40  1.084523  \n",
       "18  1.073602  \n",
       "36  1.037759  \n",
       "15  0.995738  \n",
       "28  0.909050  \n",
       "16  0.907023  \n",
       "31  0.866350  \n",
       "12  0.861073  \n",
       "11  0.855366  \n",
       "45  0.752260  \n",
       "42  0.751536  \n",
       "29  0.735898  \n",
       "6   0.656705  \n",
       "38  0.640226  \n",
       "22  0.546768  \n",
       "43  0.278483  "
      ]
     },
     "execution_count": 245,
     "metadata": {},
     "output_type": "execute_result"
    }
   ],
   "source": [
    "states.sort_values('rate',ascending=False)"
   ]
  },
  {
   "cell_type": "markdown",
   "metadata": {},
   "source": [
    "States in the midwest and south seem to have the highest police killing rates, whereas those in the northeast seem to have the lowest."
   ]
  },
  {
   "cell_type": "markdown",
   "metadata": {},
   "source": [
    "# State by state differences with focus on highest and lowest shooting rates"
   ]
  },
  {
   "cell_type": "code",
   "execution_count": 246,
   "metadata": {
    "collapsed": false
   },
   "outputs": [
    {
     "data": {
      "text/html": [
       "<div>\n",
       "<table border=\"1\" class=\"dataframe\">\n",
       "  <thead>\n",
       "    <tr style=\"text-align: right;\">\n",
       "      <th></th>\n",
       "      <th>name</th>\n",
       "      <th>age</th>\n",
       "      <th>gender</th>\n",
       "      <th>raceethnicity</th>\n",
       "      <th>month</th>\n",
       "      <th>day</th>\n",
       "      <th>year</th>\n",
       "      <th>streetaddress</th>\n",
       "      <th>city</th>\n",
       "      <th>state</th>\n",
       "      <th>...</th>\n",
       "      <th>h_income</th>\n",
       "      <th>county_income</th>\n",
       "      <th>comp_income</th>\n",
       "      <th>county_bucket</th>\n",
       "      <th>nat_bucket</th>\n",
       "      <th>pov</th>\n",
       "      <th>urate</th>\n",
       "      <th>college</th>\n",
       "      <th>in_general_armed</th>\n",
       "      <th>age_group</th>\n",
       "    </tr>\n",
       "  </thead>\n",
       "  <tbody>\n",
       "    <tr>\n",
       "      <th>0</th>\n",
       "      <td>A'donte Washington</td>\n",
       "      <td>16</td>\n",
       "      <td>Male</td>\n",
       "      <td>Black</td>\n",
       "      <td>February</td>\n",
       "      <td>23</td>\n",
       "      <td>2015</td>\n",
       "      <td>Clearview Ln</td>\n",
       "      <td>Millbrook</td>\n",
       "      <td>AL</td>\n",
       "      <td>...</td>\n",
       "      <td>51367.0</td>\n",
       "      <td>54766</td>\n",
       "      <td>0.937936</td>\n",
       "      <td>3.0</td>\n",
       "      <td>3.0</td>\n",
       "      <td>14.1</td>\n",
       "      <td>0.097686</td>\n",
       "      <td>0.168510</td>\n",
       "      <td>unarmed</td>\n",
       "      <td>adolescent</td>\n",
       "    </tr>\n",
       "    <tr>\n",
       "      <th>1</th>\n",
       "      <td>Aaron Rutledge</td>\n",
       "      <td>27</td>\n",
       "      <td>Male</td>\n",
       "      <td>White</td>\n",
       "      <td>April</td>\n",
       "      <td>2</td>\n",
       "      <td>2015</td>\n",
       "      <td>300 block Iris Park Dr</td>\n",
       "      <td>Pineville</td>\n",
       "      <td>LA</td>\n",
       "      <td>...</td>\n",
       "      <td>27972.0</td>\n",
       "      <td>40930</td>\n",
       "      <td>0.683411</td>\n",
       "      <td>2.0</td>\n",
       "      <td>1.0</td>\n",
       "      <td>28.8</td>\n",
       "      <td>0.065724</td>\n",
       "      <td>0.111402</td>\n",
       "      <td>unarmed</td>\n",
       "      <td>adult</td>\n",
       "    </tr>\n",
       "    <tr>\n",
       "      <th>2</th>\n",
       "      <td>Aaron Siler</td>\n",
       "      <td>26</td>\n",
       "      <td>Male</td>\n",
       "      <td>White</td>\n",
       "      <td>March</td>\n",
       "      <td>14</td>\n",
       "      <td>2015</td>\n",
       "      <td>22nd Ave and 56th St</td>\n",
       "      <td>Kenosha</td>\n",
       "      <td>WI</td>\n",
       "      <td>...</td>\n",
       "      <td>45365.0</td>\n",
       "      <td>54930</td>\n",
       "      <td>0.825869</td>\n",
       "      <td>2.0</td>\n",
       "      <td>3.0</td>\n",
       "      <td>14.6</td>\n",
       "      <td>0.166293</td>\n",
       "      <td>0.147312</td>\n",
       "      <td>unarmed</td>\n",
       "      <td>adult</td>\n",
       "    </tr>\n",
       "    <tr>\n",
       "      <th>3</th>\n",
       "      <td>Aaron Valdez</td>\n",
       "      <td>25</td>\n",
       "      <td>Male</td>\n",
       "      <td>Hispanic/Latino</td>\n",
       "      <td>March</td>\n",
       "      <td>11</td>\n",
       "      <td>2015</td>\n",
       "      <td>3000 Seminole Ave</td>\n",
       "      <td>South Gate</td>\n",
       "      <td>CA</td>\n",
       "      <td>...</td>\n",
       "      <td>48295.0</td>\n",
       "      <td>55909</td>\n",
       "      <td>0.863814</td>\n",
       "      <td>3.0</td>\n",
       "      <td>3.0</td>\n",
       "      <td>11.7</td>\n",
       "      <td>0.124827</td>\n",
       "      <td>0.050133</td>\n",
       "      <td>armed</td>\n",
       "      <td>adult</td>\n",
       "    </tr>\n",
       "    <tr>\n",
       "      <th>4</th>\n",
       "      <td>Adam Jovicic</td>\n",
       "      <td>29</td>\n",
       "      <td>Male</td>\n",
       "      <td>White</td>\n",
       "      <td>March</td>\n",
       "      <td>19</td>\n",
       "      <td>2015</td>\n",
       "      <td>364 Hiwood Ave</td>\n",
       "      <td>Munroe Falls</td>\n",
       "      <td>OH</td>\n",
       "      <td>...</td>\n",
       "      <td>68785.0</td>\n",
       "      <td>49669</td>\n",
       "      <td>1.384868</td>\n",
       "      <td>5.0</td>\n",
       "      <td>4.0</td>\n",
       "      <td>1.9</td>\n",
       "      <td>0.063550</td>\n",
       "      <td>0.403954</td>\n",
       "      <td>unarmed</td>\n",
       "      <td>adult</td>\n",
       "    </tr>\n",
       "  </tbody>\n",
       "</table>\n",
       "<p>5 rows × 36 columns</p>\n",
       "</div>"
      ],
      "text/plain": [
       "                 name age gender    raceethnicity     month  day  year  \\\n",
       "0  A'donte Washington  16   Male            Black  February   23  2015   \n",
       "1      Aaron Rutledge  27   Male            White     April    2  2015   \n",
       "2         Aaron Siler  26   Male            White     March   14  2015   \n",
       "3        Aaron Valdez  25   Male  Hispanic/Latino     March   11  2015   \n",
       "4        Adam Jovicic  29   Male            White     March   19  2015   \n",
       "\n",
       "            streetaddress          city state     ...      h_income  \\\n",
       "0            Clearview Ln     Millbrook    AL     ...       51367.0   \n",
       "1  300 block Iris Park Dr     Pineville    LA     ...       27972.0   \n",
       "2    22nd Ave and 56th St       Kenosha    WI     ...       45365.0   \n",
       "3       3000 Seminole Ave    South Gate    CA     ...       48295.0   \n",
       "4          364 Hiwood Ave  Munroe Falls    OH     ...       68785.0   \n",
       "\n",
       "   county_income  comp_income  county_bucket  nat_bucket   pov     urate  \\\n",
       "0          54766     0.937936            3.0         3.0  14.1  0.097686   \n",
       "1          40930     0.683411            2.0         1.0  28.8  0.065724   \n",
       "2          54930     0.825869            2.0         3.0  14.6  0.166293   \n",
       "3          55909     0.863814            3.0         3.0  11.7  0.124827   \n",
       "4          49669     1.384868            5.0         4.0   1.9  0.063550   \n",
       "\n",
       "    college in_general_armed   age_group  \n",
       "0  0.168510          unarmed  adolescent  \n",
       "1  0.111402          unarmed       adult  \n",
       "2  0.147312          unarmed       adult  \n",
       "3  0.050133            armed       adult  \n",
       "4  0.403954          unarmed       adult  \n",
       "\n",
       "[5 rows x 36 columns]"
      ]
     },
     "execution_count": 246,
     "metadata": {},
     "output_type": "execute_result"
    }
   ],
   "source": [
    "df_without_missing_data = police_killings[(police_killings['share_white'] != '-') & (police_killings['share_black'] != '-') & (police_killings['share_hispanic'] != '-')]\n",
    "df_without_missing_data.head()"
   ]
  },
  {
   "cell_type": "code",
   "execution_count": 247,
   "metadata": {
    "collapsed": false
   },
   "outputs": [
    {
     "name": "stderr",
     "output_type": "stream",
     "text": [
      "C:\\Users\\Christiana\\Anaconda3\\lib\\site-packages\\pandas\\core\\frame.py:2378: SettingWithCopyWarning: \n",
      "A value is trying to be set on a copy of a slice from a DataFrame.\n",
      "Try using .loc[row_indexer,col_indexer] = value instead\n",
      "\n",
      "See the caveats in the documentation: http://pandas.pydata.org/pandas-docs/stable/indexing.html#indexing-view-versus-copy\n",
      "  self[k1] = value[k2]\n"
     ]
    }
   ],
   "source": [
    "df_without_missing_data[['share_black','share_white','share_hispanic']] = df_without_missing_data[['share_black','share_white','share_hispanic']].astype('float')"
   ]
  },
  {
   "cell_type": "code",
   "execution_count": 248,
   "metadata": {
    "collapsed": false
   },
   "outputs": [],
   "source": [
    "#df_without_missing_data['share_black_float'] = df_without_missing_data['share_black'].astype('float')\n",
    "#df_without_missing_data['share_white_float'] = df_without_missing_data['share_white'].astype('float')\n",
    "#df_without_missing_data['share_hispanic_float'] = df_without_missing_data['share_hispanic'].astype('float')"
   ]
  },
  {
   "cell_type": "code",
   "execution_count": 249,
   "metadata": {
    "collapsed": true
   },
   "outputs": [],
   "source": [
    "statecounts = police_killings['state'].value_counts()"
   ]
  },
  {
   "cell_type": "markdown",
   "metadata": {},
   "source": [
    "States with most and least shootings"
   ]
  },
  {
   "cell_type": "code",
   "execution_count": 250,
   "metadata": {
    "collapsed": false
   },
   "outputs": [],
   "source": [
    "highest_shooting = statecounts.index[0:10].tolist()\n",
    "lowest_shooting = statecounts.index[37:48].tolist()\n"
   ]
  },
  {
   "cell_type": "markdown",
   "metadata": {},
   "source": [
    "Rows of police_killings, which correspond to the states in highest_shooting and lowest_shooting"
   ]
  },
  {
   "cell_type": "code",
   "execution_count": 251,
   "metadata": {
    "collapsed": false
   },
   "outputs": [],
   "source": [
    "df_highest_shooting = df_without_missing_data[df_without_missing_data['state'].isin(highest_shooting)]\n",
    "df_lowest_shooting = df_without_missing_data[df_without_missing_data['state'].isin(lowest_shooting)]"
   ]
  },
  {
   "cell_type": "markdown",
   "metadata": {},
   "source": [
    "Calculating the mean of the fractions of white, black and hispanic people in the states with the highest and lowest shooting rates"
   ]
  },
  {
   "cell_type": "code",
   "execution_count": 252,
   "metadata": {
    "collapsed": false
   },
   "outputs": [
    {
     "data": {
      "text/plain": [
       "share_white       44.300386\n",
       "share_black       15.460232\n",
       "share_hispanic    30.923166\n",
       "dtype: float64"
      ]
     },
     "execution_count": 252,
     "metadata": {},
     "output_type": "execute_result"
    }
   ],
   "source": [
    "df_highest_shooting[['share_white','share_black','share_hispanic']].mean()"
   ]
  },
  {
   "cell_type": "code",
   "execution_count": 253,
   "metadata": {
    "collapsed": false
   },
   "outputs": [
    {
     "data": {
      "text/plain": [
       "share_white       72.173333\n",
       "share_black        9.306667\n",
       "share_hispanic     7.073333\n",
       "dtype: float64"
      ]
     },
     "execution_count": 253,
     "metadata": {},
     "output_type": "execute_result"
    }
   ],
   "source": [
    "df_lowest_shooting[['share_white','share_black','share_hispanic']].mean()"
   ]
  },
  {
   "cell_type": "markdown",
   "metadata": {},
   "source": [
    "It looks like the states with low rates of shootings tend to have a lower proportion of blacks in the population, and a lower proportion of hispanics in the census regions where the shootings occur. \n",
    "States with high rates of shootings tend to have high hispanic population shares in the counties where shootings occur. Still, as already shown, more black people die, than hispanic."
   ]
  },
  {
   "cell_type": "markdown",
   "metadata": {},
   "source": [
    "## Data visualization"
   ]
  },
  {
   "cell_type": "markdown",
   "metadata": {},
   "source": [
    "It is needed to convert the longitude and latitude values of the shootings to cartesian coordinates in order to display them on a 2D-map"
   ]
  },
  {
   "cell_type": "code",
   "execution_count": 254,
   "metadata": {
    "collapsed": false
   },
   "outputs": [
    {
     "data": {
      "image/png": "[encoded data removed]",
      "text/plain": [
       "<matplotlib.figure.Figure at 0x1346317c390>"
      ]
     },
     "metadata": {},
     "output_type": "display_data"
    }
   ],
   "source": [
    "m = Basemap(projection='merc', llcrnrlat=20, urcrnrlat=52, llcrnrlon=-130, urcrnrlon=-60)\n",
    "longitudes1 = df_highest_shooting[\"longitude\"].tolist()\n",
    "latitudes1 = df_highest_shooting[\"latitude\"].tolist()\n",
    "longitudes2 = df_lowest_shooting[\"longitude\"].tolist()\n",
    "latitudes2 = df_lowest_shooting[\"latitude\"].tolist()\n",
    "x1, y1 = m(longitudes1, latitudes1)\n",
    "x2, y2 = m(longitudes2, latitudes2)\n",
    "m.scatter(x1, y1, s=10,color='blue')\n",
    "m.scatter(x2, y2, s=10,color='red')\n",
    "m.drawcoastlines()\n",
    "plt.show()"
   ]
  },
  {
   "cell_type": "markdown",
   "metadata": {},
   "source": [
    "The blue dots represent the shootings in the states with the most shooting rates, the red dots represent the states with the least shootings."
   ]
  },
  {
   "cell_type": "markdown",
   "metadata": {},
   "source": [
    "## Personal income"
   ]
  },
  {
   "cell_type": "markdown",
   "metadata": {},
   "source": [
    "Personal income in states with highest and lowest shooting rates."
   ]
  },
  {
   "cell_type": "code",
   "execution_count": 255,
   "metadata": {
    "collapsed": false
   },
   "outputs": [
    {
     "data": {
      "text/plain": [
       "<matplotlib.axes._subplots.AxesSubplot at 0x13463028cc0>"
      ]
     },
     "execution_count": 255,
     "metadata": {},
     "output_type": "execute_result"
    },
    {
     "data": {
      "image/png": "[encoded data removed]",
      "text/plain": [
       "<matplotlib.figure.Figure at 0x134618fb390>"
      ]
     },
     "metadata": {},
     "output_type": "display_data"
    }
   ],
   "source": [
    "df_highest_shooting_income = df_highest_shooting[df_highest_shooting['p_income'] != '-']\n",
    "income = df_highest_shooting_income['p_income'].astype('int64')\n",
    "income.hist(bins=20)"
   ]
  },
  {
   "cell_type": "code",
   "execution_count": 256,
   "metadata": {
    "collapsed": false
   },
   "outputs": [
    {
     "data": {
      "text/plain": [
       "22132.0"
      ]
     },
     "execution_count": 256,
     "metadata": {},
     "output_type": "execute_result"
    }
   ],
   "source": [
    "df_highest_shooting[\"p_income\"][df_highest_shooting[\"p_income\"] != \"-\"].astype(float).median()"
   ]
  },
  {
   "cell_type": "code",
   "execution_count": 257,
   "metadata": {
    "collapsed": false
   },
   "outputs": [
    {
     "data": {
      "text/plain": [
       "<matplotlib.axes._subplots.AxesSubplot at 0x13462a60c18>"
      ]
     },
     "execution_count": 257,
     "metadata": {},
     "output_type": "execute_result"
    },
    {
     "data": {
      "image/png": "[encoded data removed]",
      "text/plain": [
       "<matplotlib.figure.Figure at 0x1346184e048>"
      ]
     },
     "metadata": {},
     "output_type": "display_data"
    }
   ],
   "source": [
    "df_lowest_shooting_income = df_lowest_shooting[df_lowest_shooting['p_income'] != '-']\n",
    "income = df_lowest_shooting_income['p_income'].astype('int64')\n",
    "income.hist(bins=20)"
   ]
  },
  {
   "cell_type": "code",
   "execution_count": 258,
   "metadata": {
    "collapsed": false
   },
   "outputs": [
    {
     "data": {
      "text/plain": [
       "28125.0"
      ]
     },
     "execution_count": 258,
     "metadata": {},
     "output_type": "execute_result"
    }
   ],
   "source": [
    "df_lowest_shooting[\"p_income\"][df_lowest_shooting[\"p_income\"] != \"-\"].astype(float).median()"
   ]
  },
  {
   "cell_type": "markdown",
   "metadata": {},
   "source": [
    "It looks like the income of the states, where most shootings occur, is much lower."
   ]
  },
  {
   "cell_type": "markdown",
   "metadata": {
    "collapsed": true
   },
   "source": [
    "## Poverty, college education and unemployment rates"
   ]
  },
  {
   "cell_type": "code",
   "execution_count": 259,
   "metadata": {
    "collapsed": false
   },
   "outputs": [
    {
     "name": "stderr",
     "output_type": "stream",
     "text": [
      "C:\\Users\\Christiana\\Anaconda3\\lib\\site-packages\\pandas\\core\\frame.py:2378: SettingWithCopyWarning: \n",
      "A value is trying to be set on a copy of a slice from a DataFrame.\n",
      "Try using .loc[row_indexer,col_indexer] = value instead\n",
      "\n",
      "See the caveats in the documentation: http://pandas.pydata.org/pandas-docs/stable/indexing.html#indexing-view-versus-copy\n",
      "  self[k1] = value[k2]\n"
     ]
    }
   ],
   "source": [
    "df_without_missing_data[['pov']] = df_without_missing_data[['pov']].astype('float')"
   ]
  },
  {
   "cell_type": "code",
   "execution_count": 260,
   "metadata": {
    "collapsed": false,
    "scrolled": true
   },
   "outputs": [
    {
     "data": {
      "text/html": [
       "<div>\n",
       "<table border=\"1\" class=\"dataframe\">\n",
       "  <thead>\n",
       "    <tr style=\"text-align: right;\">\n",
       "      <th></th>\n",
       "      <th>college</th>\n",
       "      <th>pov</th>\n",
       "      <th>urate</th>\n",
       "    </tr>\n",
       "    <tr>\n",
       "      <th>state</th>\n",
       "      <th></th>\n",
       "      <th></th>\n",
       "      <th></th>\n",
       "    </tr>\n",
       "  </thead>\n",
       "  <tbody>\n",
       "    <tr>\n",
       "      <th>AK</th>\n",
       "      <td>0.215967</td>\n",
       "      <td>19.300000</td>\n",
       "      <td>0.112907</td>\n",
       "    </tr>\n",
       "    <tr>\n",
       "      <th>AL</th>\n",
       "      <td>0.273958</td>\n",
       "      <td>16.512500</td>\n",
       "      <td>0.089344</td>\n",
       "    </tr>\n",
       "    <tr>\n",
       "      <th>AR</th>\n",
       "      <td>0.163693</td>\n",
       "      <td>22.325000</td>\n",
       "      <td>0.089966</td>\n",
       "    </tr>\n",
       "    <tr>\n",
       "      <th>AZ</th>\n",
       "      <td>0.213350</td>\n",
       "      <td>23.572000</td>\n",
       "      <td>0.122033</td>\n",
       "    </tr>\n",
       "    <tr>\n",
       "      <th>CA</th>\n",
       "      <td>0.228564</td>\n",
       "      <td>20.494595</td>\n",
       "      <td>0.126445</td>\n",
       "    </tr>\n",
       "    <tr>\n",
       "      <th>CO</th>\n",
       "      <td>0.272466</td>\n",
       "      <td>18.783333</td>\n",
       "      <td>0.102403</td>\n",
       "    </tr>\n",
       "    <tr>\n",
       "      <th>CT</th>\n",
       "      <td>0.382334</td>\n",
       "      <td>8.300000</td>\n",
       "      <td>0.071680</td>\n",
       "    </tr>\n",
       "    <tr>\n",
       "      <th>DC</th>\n",
       "      <td>0.828070</td>\n",
       "      <td>11.900000</td>\n",
       "      <td>0.019666</td>\n",
       "    </tr>\n",
       "    <tr>\n",
       "      <th>DE</th>\n",
       "      <td>0.256400</td>\n",
       "      <td>10.950000</td>\n",
       "      <td>0.100521</td>\n",
       "    </tr>\n",
       "    <tr>\n",
       "      <th>FL</th>\n",
       "      <td>0.227716</td>\n",
       "      <td>23.044828</td>\n",
       "      <td>0.139032</td>\n",
       "    </tr>\n",
       "    <tr>\n",
       "      <th>GA</th>\n",
       "      <td>0.281474</td>\n",
       "      <td>18.268750</td>\n",
       "      <td>0.123316</td>\n",
       "    </tr>\n",
       "    <tr>\n",
       "      <th>HI</th>\n",
       "      <td>0.319518</td>\n",
       "      <td>11.800000</td>\n",
       "      <td>0.110657</td>\n",
       "    </tr>\n",
       "    <tr>\n",
       "      <th>IA</th>\n",
       "      <td>0.069308</td>\n",
       "      <td>28.800000</td>\n",
       "      <td>0.116956</td>\n",
       "    </tr>\n",
       "    <tr>\n",
       "      <th>ID</th>\n",
       "      <td>0.229012</td>\n",
       "      <td>22.775000</td>\n",
       "      <td>0.093375</td>\n",
       "    </tr>\n",
       "    <tr>\n",
       "      <th>IL</th>\n",
       "      <td>0.139939</td>\n",
       "      <td>24.372727</td>\n",
       "      <td>0.157196</td>\n",
       "    </tr>\n",
       "    <tr>\n",
       "      <th>IN</th>\n",
       "      <td>0.222095</td>\n",
       "      <td>21.500000</td>\n",
       "      <td>0.105313</td>\n",
       "    </tr>\n",
       "    <tr>\n",
       "      <th>KS</th>\n",
       "      <td>0.200875</td>\n",
       "      <td>22.016667</td>\n",
       "      <td>0.111088</td>\n",
       "    </tr>\n",
       "    <tr>\n",
       "      <th>KY</th>\n",
       "      <td>0.218933</td>\n",
       "      <td>23.771429</td>\n",
       "      <td>0.120312</td>\n",
       "    </tr>\n",
       "    <tr>\n",
       "      <th>LA</th>\n",
       "      <td>0.122581</td>\n",
       "      <td>36.540000</td>\n",
       "      <td>0.131647</td>\n",
       "    </tr>\n",
       "    <tr>\n",
       "      <th>MA</th>\n",
       "      <td>0.330144</td>\n",
       "      <td>14.440000</td>\n",
       "      <td>0.120704</td>\n",
       "    </tr>\n",
       "    <tr>\n",
       "      <th>MD</th>\n",
       "      <td>0.193200</td>\n",
       "      <td>21.270000</td>\n",
       "      <td>0.181181</td>\n",
       "    </tr>\n",
       "    <tr>\n",
       "      <th>ME</th>\n",
       "      <td>0.144492</td>\n",
       "      <td>17.900000</td>\n",
       "      <td>0.115207</td>\n",
       "    </tr>\n",
       "    <tr>\n",
       "      <th>MI</th>\n",
       "      <td>0.188859</td>\n",
       "      <td>21.622222</td>\n",
       "      <td>0.149212</td>\n",
       "    </tr>\n",
       "    <tr>\n",
       "      <th>MN</th>\n",
       "      <td>0.266084</td>\n",
       "      <td>19.366667</td>\n",
       "      <td>0.116751</td>\n",
       "    </tr>\n",
       "    <tr>\n",
       "      <th>MO</th>\n",
       "      <td>0.212073</td>\n",
       "      <td>32.680000</td>\n",
       "      <td>0.184885</td>\n",
       "    </tr>\n",
       "    <tr>\n",
       "      <th>MS</th>\n",
       "      <td>0.125601</td>\n",
       "      <td>24.000000</td>\n",
       "      <td>0.095784</td>\n",
       "    </tr>\n",
       "    <tr>\n",
       "      <th>MT</th>\n",
       "      <td>0.334394</td>\n",
       "      <td>15.550000</td>\n",
       "      <td>0.110008</td>\n",
       "    </tr>\n",
       "    <tr>\n",
       "      <th>NC</th>\n",
       "      <td>0.151571</td>\n",
       "      <td>28.240000</td>\n",
       "      <td>0.185262</td>\n",
       "    </tr>\n",
       "    <tr>\n",
       "      <th>NE</th>\n",
       "      <td>0.280946</td>\n",
       "      <td>16.900000</td>\n",
       "      <td>0.055675</td>\n",
       "    </tr>\n",
       "    <tr>\n",
       "      <th>NH</th>\n",
       "      <td>0.284854</td>\n",
       "      <td>5.400000</td>\n",
       "      <td>0.087385</td>\n",
       "    </tr>\n",
       "    <tr>\n",
       "      <th>NJ</th>\n",
       "      <td>0.282642</td>\n",
       "      <td>12.809091</td>\n",
       "      <td>0.093730</td>\n",
       "    </tr>\n",
       "    <tr>\n",
       "      <th>NM</th>\n",
       "      <td>0.290681</td>\n",
       "      <td>14.320000</td>\n",
       "      <td>0.066743</td>\n",
       "    </tr>\n",
       "    <tr>\n",
       "      <th>NV</th>\n",
       "      <td>0.125831</td>\n",
       "      <td>18.800000</td>\n",
       "      <td>0.140376</td>\n",
       "    </tr>\n",
       "    <tr>\n",
       "      <th>NY</th>\n",
       "      <td>0.219780</td>\n",
       "      <td>19.928571</td>\n",
       "      <td>0.117858</td>\n",
       "    </tr>\n",
       "    <tr>\n",
       "      <th>OH</th>\n",
       "      <td>0.166867</td>\n",
       "      <td>21.822222</td>\n",
       "      <td>0.155810</td>\n",
       "    </tr>\n",
       "    <tr>\n",
       "      <th>OK</th>\n",
       "      <td>0.197757</td>\n",
       "      <td>23.422727</td>\n",
       "      <td>0.089062</td>\n",
       "    </tr>\n",
       "    <tr>\n",
       "      <th>OR</th>\n",
       "      <td>0.185972</td>\n",
       "      <td>20.150000</td>\n",
       "      <td>0.153711</td>\n",
       "    </tr>\n",
       "    <tr>\n",
       "      <th>PA</th>\n",
       "      <td>0.167560</td>\n",
       "      <td>17.171429</td>\n",
       "      <td>0.099401</td>\n",
       "    </tr>\n",
       "    <tr>\n",
       "      <th>SC</th>\n",
       "      <td>0.301359</td>\n",
       "      <td>19.088889</td>\n",
       "      <td>0.117600</td>\n",
       "    </tr>\n",
       "    <tr>\n",
       "      <th>TN</th>\n",
       "      <td>0.262515</td>\n",
       "      <td>20.683333</td>\n",
       "      <td>0.120126</td>\n",
       "    </tr>\n",
       "    <tr>\n",
       "      <th>TX</th>\n",
       "      <td>0.189733</td>\n",
       "      <td>21.330435</td>\n",
       "      <td>0.087311</td>\n",
       "    </tr>\n",
       "    <tr>\n",
       "      <th>UT</th>\n",
       "      <td>0.353579</td>\n",
       "      <td>12.660000</td>\n",
       "      <td>0.041687</td>\n",
       "    </tr>\n",
       "    <tr>\n",
       "      <th>VA</th>\n",
       "      <td>0.247592</td>\n",
       "      <td>16.955556</td>\n",
       "      <td>0.072519</td>\n",
       "    </tr>\n",
       "    <tr>\n",
       "      <th>WA</th>\n",
       "      <td>0.134931</td>\n",
       "      <td>24.436364</td>\n",
       "      <td>0.116289</td>\n",
       "    </tr>\n",
       "    <tr>\n",
       "      <th>WI</th>\n",
       "      <td>0.308860</td>\n",
       "      <td>15.820000</td>\n",
       "      <td>0.096903</td>\n",
       "    </tr>\n",
       "    <tr>\n",
       "      <th>WV</th>\n",
       "      <td>0.163716</td>\n",
       "      <td>13.850000</td>\n",
       "      <td>0.114013</td>\n",
       "    </tr>\n",
       "    <tr>\n",
       "      <th>WY</th>\n",
       "      <td>0.212289</td>\n",
       "      <td>8.700000</td>\n",
       "      <td>0.046544</td>\n",
       "    </tr>\n",
       "  </tbody>\n",
       "</table>\n",
       "</div>"
      ],
      "text/plain": [
       "        college        pov     urate\n",
       "state                               \n",
       "AK     0.215967  19.300000  0.112907\n",
       "AL     0.273958  16.512500  0.089344\n",
       "AR     0.163693  22.325000  0.089966\n",
       "AZ     0.213350  23.572000  0.122033\n",
       "CA     0.228564  20.494595  0.126445\n",
       "CO     0.272466  18.783333  0.102403\n",
       "CT     0.382334   8.300000  0.071680\n",
       "DC     0.828070  11.900000  0.019666\n",
       "DE     0.256400  10.950000  0.100521\n",
       "FL     0.227716  23.044828  0.139032\n",
       "GA     0.281474  18.268750  0.123316\n",
       "HI     0.319518  11.800000  0.110657\n",
       "IA     0.069308  28.800000  0.116956\n",
       "ID     0.229012  22.775000  0.093375\n",
       "IL     0.139939  24.372727  0.157196\n",
       "IN     0.222095  21.500000  0.105313\n",
       "KS     0.200875  22.016667  0.111088\n",
       "KY     0.218933  23.771429  0.120312\n",
       "LA     0.122581  36.540000  0.131647\n",
       "MA     0.330144  14.440000  0.120704\n",
       "MD     0.193200  21.270000  0.181181\n",
       "ME     0.144492  17.900000  0.115207\n",
       "MI     0.188859  21.622222  0.149212\n",
       "MN     0.266084  19.366667  0.116751\n",
       "MO     0.212073  32.680000  0.184885\n",
       "MS     0.125601  24.000000  0.095784\n",
       "MT     0.334394  15.550000  0.110008\n",
       "NC     0.151571  28.240000  0.185262\n",
       "NE     0.280946  16.900000  0.055675\n",
       "NH     0.284854   5.400000  0.087385\n",
       "NJ     0.282642  12.809091  0.093730\n",
       "NM     0.290681  14.320000  0.066743\n",
       "NV     0.125831  18.800000  0.140376\n",
       "NY     0.219780  19.928571  0.117858\n",
       "OH     0.166867  21.822222  0.155810\n",
       "OK     0.197757  23.422727  0.089062\n",
       "OR     0.185972  20.150000  0.153711\n",
       "PA     0.167560  17.171429  0.099401\n",
       "SC     0.301359  19.088889  0.117600\n",
       "TN     0.262515  20.683333  0.120126\n",
       "TX     0.189733  21.330435  0.087311\n",
       "UT     0.353579  12.660000  0.041687\n",
       "VA     0.247592  16.955556  0.072519\n",
       "WA     0.134931  24.436364  0.116289\n",
       "WI     0.308860  15.820000  0.096903\n",
       "WV     0.163716  13.850000  0.114013\n",
       "WY     0.212289   8.700000  0.046544"
      ]
     },
     "execution_count": 260,
     "metadata": {},
     "output_type": "execute_result"
    }
   ],
   "source": [
    "pivottable = df_without_missing_data.pivot_table(index=\"state\", values=[\"pov\",'urate','college'], aggfunc=np.mean)\n",
    "pivottable"
   ]
  },
  {
   "cell_type": "code",
   "execution_count": 261,
   "metadata": {
    "collapsed": false
   },
   "outputs": [],
   "source": [
    "pov_highest_shooting = pivottable.loc[highest_shooting]\n",
    "pov_lowest_shooting = pivottable.loc[lowest_shooting]"
   ]
  },
  {
   "cell_type": "code",
   "execution_count": 262,
   "metadata": {
    "collapsed": false
   },
   "outputs": [
    {
     "data": {
      "text/plain": [
       "college     0.209336\n",
       "pov        22.975797\n",
       "urate       0.119630\n",
       "dtype: float64"
      ]
     },
     "execution_count": 262,
     "metadata": {},
     "output_type": "execute_result"
    }
   ],
   "source": [
    "pov_highest_shooting.mean()"
   ]
  },
  {
   "cell_type": "code",
   "execution_count": 263,
   "metadata": {
    "collapsed": false
   },
   "outputs": [
    {
     "data": {
      "text/plain": [
       "college     0.289182\n",
       "pov        14.065000\n",
       "urate       0.089489\n",
       "dtype: float64"
      ]
     },
     "execution_count": 263,
     "metadata": {},
     "output_type": "execute_result"
    }
   ],
   "source": [
    "pov_lowest_shooting.mean()"
   ]
  },
  {
   "cell_type": "markdown",
   "metadata": {},
   "source": [
    "As one can see, poverty and unemployment rates are much higher in states, where most shootings occur, than in states were the least shootings occus. Moreover, more people attended colleage in states with less shootings. "
   ]
  },
  {
   "cell_type": "markdown",
   "metadata": {},
   "source": [
    "# Poverty and unemployment rates per city"
   ]
  },
  {
   "cell_type": "code",
   "execution_count": 264,
   "metadata": {
    "collapsed": false,
    "scrolled": true
   },
   "outputs": [
    {
     "data": {
      "text/html": [
       "<div>\n",
       "<table border=\"1\" class=\"dataframe\">\n",
       "  <thead>\n",
       "    <tr style=\"text-align: right;\">\n",
       "      <th></th>\n",
       "      <th>college</th>\n",
       "      <th>pov</th>\n",
       "      <th>urate</th>\n",
       "    </tr>\n",
       "    <tr>\n",
       "      <th>city</th>\n",
       "      <th></th>\n",
       "      <th></th>\n",
       "      <th></th>\n",
       "    </tr>\n",
       "  </thead>\n",
       "  <tbody>\n",
       "    <tr>\n",
       "      <th>Albany</th>\n",
       "      <td>0.138646</td>\n",
       "      <td>44.500000</td>\n",
       "      <td>0.125672</td>\n",
       "    </tr>\n",
       "    <tr>\n",
       "      <th>Albuquerque</th>\n",
       "      <td>0.335281</td>\n",
       "      <td>16.550000</td>\n",
       "      <td>0.063614</td>\n",
       "    </tr>\n",
       "    <tr>\n",
       "      <th>Allentown</th>\n",
       "      <td>0.193037</td>\n",
       "      <td>11.300000</td>\n",
       "      <td>0.072277</td>\n",
       "    </tr>\n",
       "    <tr>\n",
       "      <th>Aloha</th>\n",
       "      <td>0.174887</td>\n",
       "      <td>8.800000</td>\n",
       "      <td>0.135548</td>\n",
       "    </tr>\n",
       "    <tr>\n",
       "      <th>Alpine</th>\n",
       "      <td>0.227393</td>\n",
       "      <td>19.200000</td>\n",
       "      <td>0.090909</td>\n",
       "    </tr>\n",
       "    <tr>\n",
       "      <th>Alton</th>\n",
       "      <td>0.092969</td>\n",
       "      <td>31.200000</td>\n",
       "      <td>0.203891</td>\n",
       "    </tr>\n",
       "    <tr>\n",
       "      <th>Anaheim</th>\n",
       "      <td>0.179209</td>\n",
       "      <td>16.800000</td>\n",
       "      <td>0.121654</td>\n",
       "    </tr>\n",
       "    <tr>\n",
       "      <th>Anchorage</th>\n",
       "      <td>0.215967</td>\n",
       "      <td>19.300000</td>\n",
       "      <td>0.112907</td>\n",
       "    </tr>\n",
       "    <tr>\n",
       "      <th>Antioch</th>\n",
       "      <td>0.048748</td>\n",
       "      <td>20.700000</td>\n",
       "      <td>0.175750</td>\n",
       "    </tr>\n",
       "    <tr>\n",
       "      <th>Apple Valley</th>\n",
       "      <td>0.141213</td>\n",
       "      <td>23.600000</td>\n",
       "      <td>0.086390</td>\n",
       "    </tr>\n",
       "    <tr>\n",
       "      <th>Arcola</th>\n",
       "      <td>0.158821</td>\n",
       "      <td>14.000000</td>\n",
       "      <td>0.053740</td>\n",
       "    </tr>\n",
       "    <tr>\n",
       "      <th>Arlington</th>\n",
       "      <td>0.407641</td>\n",
       "      <td>28.450000</td>\n",
       "      <td>0.059186</td>\n",
       "    </tr>\n",
       "    <tr>\n",
       "      <th>Assaria</th>\n",
       "      <td>0.240897</td>\n",
       "      <td>9.500000</td>\n",
       "      <td>0.041357</td>\n",
       "    </tr>\n",
       "    <tr>\n",
       "      <th>Atlanta</th>\n",
       "      <td>0.351180</td>\n",
       "      <td>30.233333</td>\n",
       "      <td>0.164610</td>\n",
       "    </tr>\n",
       "    <tr>\n",
       "      <th>Aurora</th>\n",
       "      <td>0.189401</td>\n",
       "      <td>22.100000</td>\n",
       "      <td>0.153367</td>\n",
       "    </tr>\n",
       "    <tr>\n",
       "      <th>Austin</th>\n",
       "      <td>0.388402</td>\n",
       "      <td>12.233333</td>\n",
       "      <td>0.069815</td>\n",
       "    </tr>\n",
       "    <tr>\n",
       "      <th>Bakersfield</th>\n",
       "      <td>0.113598</td>\n",
       "      <td>28.833333</td>\n",
       "      <td>0.127177</td>\n",
       "    </tr>\n",
       "    <tr>\n",
       "      <th>Baltimore</th>\n",
       "      <td>0.025455</td>\n",
       "      <td>45.050000</td>\n",
       "      <td>0.282125</td>\n",
       "    </tr>\n",
       "    <tr>\n",
       "      <th>Baton Rouge</th>\n",
       "      <td>0.120773</td>\n",
       "      <td>48.400000</td>\n",
       "      <td>0.277344</td>\n",
       "    </tr>\n",
       "    <tr>\n",
       "      <th>Bay City</th>\n",
       "      <td>0.101299</td>\n",
       "      <td>40.000000</td>\n",
       "      <td>0.260664</td>\n",
       "    </tr>\n",
       "    <tr>\n",
       "      <th>Bay Minette</th>\n",
       "      <td>0.251100</td>\n",
       "      <td>8.300000</td>\n",
       "      <td>0.073079</td>\n",
       "    </tr>\n",
       "    <tr>\n",
       "      <th>Bay Shore</th>\n",
       "      <td>0.240339</td>\n",
       "      <td>4.400000</td>\n",
       "      <td>0.109368</td>\n",
       "    </tr>\n",
       "    <tr>\n",
       "      <th>Baytown</th>\n",
       "      <td>0.022668</td>\n",
       "      <td>36.200000</td>\n",
       "      <td>0.109817</td>\n",
       "    </tr>\n",
       "    <tr>\n",
       "      <th>Beacon</th>\n",
       "      <td>0.292464</td>\n",
       "      <td>12.600000</td>\n",
       "      <td>0.151676</td>\n",
       "    </tr>\n",
       "    <tr>\n",
       "      <th>Berlin</th>\n",
       "      <td>0.236107</td>\n",
       "      <td>7.300000</td>\n",
       "      <td>0.140866</td>\n",
       "    </tr>\n",
       "    <tr>\n",
       "      <th>Billings</th>\n",
       "      <td>0.368348</td>\n",
       "      <td>21.600000</td>\n",
       "      <td>0.170555</td>\n",
       "    </tr>\n",
       "    <tr>\n",
       "      <th>Birmingham</th>\n",
       "      <td>0.247113</td>\n",
       "      <td>30.350000</td>\n",
       "      <td>0.098984</td>\n",
       "    </tr>\n",
       "    <tr>\n",
       "      <th>Bisbee</th>\n",
       "      <td>0.211139</td>\n",
       "      <td>25.800000</td>\n",
       "      <td>0.103245</td>\n",
       "    </tr>\n",
       "    <tr>\n",
       "      <th>Bloomington</th>\n",
       "      <td>0.622360</td>\n",
       "      <td>6.900000</td>\n",
       "      <td>0.049068</td>\n",
       "    </tr>\n",
       "    <tr>\n",
       "      <th>Boiling Springs</th>\n",
       "      <td>0.231973</td>\n",
       "      <td>9.700000</td>\n",
       "      <td>0.077569</td>\n",
       "    </tr>\n",
       "    <tr>\n",
       "      <th>...</th>\n",
       "      <td>...</td>\n",
       "      <td>...</td>\n",
       "      <td>...</td>\n",
       "    </tr>\n",
       "    <tr>\n",
       "      <th>Terre Haute</th>\n",
       "      <td>0.345858</td>\n",
       "      <td>13.100000</td>\n",
       "      <td>0.054470</td>\n",
       "    </tr>\n",
       "    <tr>\n",
       "      <th>Tewksbury</th>\n",
       "      <td>0.417993</td>\n",
       "      <td>1.800000</td>\n",
       "      <td>0.058624</td>\n",
       "    </tr>\n",
       "    <tr>\n",
       "      <th>Tonasket</th>\n",
       "      <td>0.174525</td>\n",
       "      <td>27.300000</td>\n",
       "      <td>0.133650</td>\n",
       "    </tr>\n",
       "    <tr>\n",
       "      <th>Topeka</th>\n",
       "      <td>0.366545</td>\n",
       "      <td>10.400000</td>\n",
       "      <td>0.045649</td>\n",
       "    </tr>\n",
       "    <tr>\n",
       "      <th>Trenton</th>\n",
       "      <td>0.236224</td>\n",
       "      <td>6.000000</td>\n",
       "      <td>0.091409</td>\n",
       "    </tr>\n",
       "    <tr>\n",
       "      <th>Trinidad</th>\n",
       "      <td>0.170927</td>\n",
       "      <td>26.600000</td>\n",
       "      <td>0.125908</td>\n",
       "    </tr>\n",
       "    <tr>\n",
       "      <th>Tulsa</th>\n",
       "      <td>0.326006</td>\n",
       "      <td>20.500000</td>\n",
       "      <td>0.087349</td>\n",
       "    </tr>\n",
       "    <tr>\n",
       "      <th>Tuscon</th>\n",
       "      <td>0.080025</td>\n",
       "      <td>20.900000</td>\n",
       "      <td>0.151329</td>\n",
       "    </tr>\n",
       "    <tr>\n",
       "      <th>Union</th>\n",
       "      <td>0.392835</td>\n",
       "      <td>10.900000</td>\n",
       "      <td>0.100000</td>\n",
       "    </tr>\n",
       "    <tr>\n",
       "      <th>Valdosta</th>\n",
       "      <td>0.197847</td>\n",
       "      <td>19.300000</td>\n",
       "      <td>0.111003</td>\n",
       "    </tr>\n",
       "    <tr>\n",
       "      <th>Vallejo</th>\n",
       "      <td>0.350836</td>\n",
       "      <td>5.600000</td>\n",
       "      <td>0.108266</td>\n",
       "    </tr>\n",
       "    <tr>\n",
       "      <th>Vancouver</th>\n",
       "      <td>0.294514</td>\n",
       "      <td>27.400000</td>\n",
       "      <td>0.133172</td>\n",
       "    </tr>\n",
       "    <tr>\n",
       "      <th>Victoria</th>\n",
       "      <td>0.171770</td>\n",
       "      <td>10.200000</td>\n",
       "      <td>0.047408</td>\n",
       "    </tr>\n",
       "    <tr>\n",
       "      <th>Ville Platte</th>\n",
       "      <td>0.122131</td>\n",
       "      <td>18.500000</td>\n",
       "      <td>0.029870</td>\n",
       "    </tr>\n",
       "    <tr>\n",
       "      <th>Vineland</th>\n",
       "      <td>0.075573</td>\n",
       "      <td>34.300000</td>\n",
       "      <td>0.118429</td>\n",
       "    </tr>\n",
       "    <tr>\n",
       "      <th>Waco</th>\n",
       "      <td>0.058467</td>\n",
       "      <td>36.100000</td>\n",
       "      <td>0.140607</td>\n",
       "    </tr>\n",
       "    <tr>\n",
       "      <th>Waikoloa Village</th>\n",
       "      <td>0.313167</td>\n",
       "      <td>7.300000</td>\n",
       "      <td>0.110094</td>\n",
       "    </tr>\n",
       "    <tr>\n",
       "      <th>Wake Forest</th>\n",
       "      <td>0.526623</td>\n",
       "      <td>8.500000</td>\n",
       "      <td>0.038599</td>\n",
       "    </tr>\n",
       "    <tr>\n",
       "      <th>Wapanucka</th>\n",
       "      <td>0.163707</td>\n",
       "      <td>20.700000</td>\n",
       "      <td>0.056243</td>\n",
       "    </tr>\n",
       "    <tr>\n",
       "      <th>Wasco</th>\n",
       "      <td>0.026600</td>\n",
       "      <td>50.600000</td>\n",
       "      <td>0.151145</td>\n",
       "    </tr>\n",
       "    <tr>\n",
       "      <th>Washington</th>\n",
       "      <td>0.828070</td>\n",
       "      <td>11.900000</td>\n",
       "      <td>0.019666</td>\n",
       "    </tr>\n",
       "    <tr>\n",
       "      <th>Webster</th>\n",
       "      <td>0.158213</td>\n",
       "      <td>16.700000</td>\n",
       "      <td>0.134320</td>\n",
       "    </tr>\n",
       "    <tr>\n",
       "      <th>Weymouth</th>\n",
       "      <td>0.364356</td>\n",
       "      <td>4.700000</td>\n",
       "      <td>0.093385</td>\n",
       "    </tr>\n",
       "    <tr>\n",
       "      <th>Wichita</th>\n",
       "      <td>0.206731</td>\n",
       "      <td>24.100000</td>\n",
       "      <td>0.106900</td>\n",
       "    </tr>\n",
       "    <tr>\n",
       "      <th>Williamsburg</th>\n",
       "      <td>0.142857</td>\n",
       "      <td>33.200000</td>\n",
       "      <td>0.096567</td>\n",
       "    </tr>\n",
       "    <tr>\n",
       "      <th>Wilmington</th>\n",
       "      <td>0.090438</td>\n",
       "      <td>12.200000</td>\n",
       "      <td>0.094347</td>\n",
       "    </tr>\n",
       "    <tr>\n",
       "      <th>Wilmore</th>\n",
       "      <td>0.493211</td>\n",
       "      <td>15.400000</td>\n",
       "      <td>0.053853</td>\n",
       "    </tr>\n",
       "    <tr>\n",
       "      <th>Winchester</th>\n",
       "      <td>0.195181</td>\n",
       "      <td>11.600000</td>\n",
       "      <td>0.103722</td>\n",
       "    </tr>\n",
       "    <tr>\n",
       "      <th>Wyoming</th>\n",
       "      <td>0.102692</td>\n",
       "      <td>18.400000</td>\n",
       "      <td>0.174167</td>\n",
       "    </tr>\n",
       "    <tr>\n",
       "      <th>Zion</th>\n",
       "      <td>0.101004</td>\n",
       "      <td>19.100000</td>\n",
       "      <td>0.273263</td>\n",
       "    </tr>\n",
       "  </tbody>\n",
       "</table>\n",
       "<p>363 rows × 3 columns</p>\n",
       "</div>"
      ],
      "text/plain": [
       "                   college        pov     urate\n",
       "city                                           \n",
       "Albany            0.138646  44.500000  0.125672\n",
       "Albuquerque       0.335281  16.550000  0.063614\n",
       "Allentown         0.193037  11.300000  0.072277\n",
       "Aloha             0.174887   8.800000  0.135548\n",
       "Alpine            0.227393  19.200000  0.090909\n",
       "Alton             0.092969  31.200000  0.203891\n",
       "Anaheim           0.179209  16.800000  0.121654\n",
       "Anchorage         0.215967  19.300000  0.112907\n",
       "Antioch           0.048748  20.700000  0.175750\n",
       "Apple Valley      0.141213  23.600000  0.086390\n",
       "Arcola            0.158821  14.000000  0.053740\n",
       "Arlington         0.407641  28.450000  0.059186\n",
       "Assaria           0.240897   9.500000  0.041357\n",
       "Atlanta           0.351180  30.233333  0.164610\n",
       "Aurora            0.189401  22.100000  0.153367\n",
       "Austin            0.388402  12.233333  0.069815\n",
       "Bakersfield       0.113598  28.833333  0.127177\n",
       "Baltimore         0.025455  45.050000  0.282125\n",
       "Baton Rouge       0.120773  48.400000  0.277344\n",
       "Bay City          0.101299  40.000000  0.260664\n",
       "Bay Minette       0.251100   8.300000  0.073079\n",
       "Bay Shore         0.240339   4.400000  0.109368\n",
       "Baytown           0.022668  36.200000  0.109817\n",
       "Beacon            0.292464  12.600000  0.151676\n",
       "Berlin            0.236107   7.300000  0.140866\n",
       "Billings          0.368348  21.600000  0.170555\n",
       "Birmingham        0.247113  30.350000  0.098984\n",
       "Bisbee            0.211139  25.800000  0.103245\n",
       "Bloomington       0.622360   6.900000  0.049068\n",
       "Boiling Springs   0.231973   9.700000  0.077569\n",
       "...                    ...        ...       ...\n",
       "Terre Haute       0.345858  13.100000  0.054470\n",
       "Tewksbury         0.417993   1.800000  0.058624\n",
       "Tonasket          0.174525  27.300000  0.133650\n",
       "Topeka            0.366545  10.400000  0.045649\n",
       "Trenton           0.236224   6.000000  0.091409\n",
       "Trinidad          0.170927  26.600000  0.125908\n",
       "Tulsa             0.326006  20.500000  0.087349\n",
       "Tuscon            0.080025  20.900000  0.151329\n",
       "Union             0.392835  10.900000  0.100000\n",
       "Valdosta          0.197847  19.300000  0.111003\n",
       "Vallejo           0.350836   5.600000  0.108266\n",
       "Vancouver         0.294514  27.400000  0.133172\n",
       "Victoria          0.171770  10.200000  0.047408\n",
       "Ville Platte      0.122131  18.500000  0.029870\n",
       "Vineland          0.075573  34.300000  0.118429\n",
       "Waco              0.058467  36.100000  0.140607\n",
       "Waikoloa Village  0.313167   7.300000  0.110094\n",
       "Wake Forest       0.526623   8.500000  0.038599\n",
       "Wapanucka         0.163707  20.700000  0.056243\n",
       "Wasco             0.026600  50.600000  0.151145\n",
       "Washington        0.828070  11.900000  0.019666\n",
       "Webster           0.158213  16.700000  0.134320\n",
       "Weymouth          0.364356   4.700000  0.093385\n",
       "Wichita           0.206731  24.100000  0.106900\n",
       "Williamsburg      0.142857  33.200000  0.096567\n",
       "Wilmington        0.090438  12.200000  0.094347\n",
       "Wilmore           0.493211  15.400000  0.053853\n",
       "Winchester        0.195181  11.600000  0.103722\n",
       "Wyoming           0.102692  18.400000  0.174167\n",
       "Zion              0.101004  19.100000  0.273263\n",
       "\n",
       "[363 rows x 3 columns]"
      ]
     },
     "execution_count": 264,
     "metadata": {},
     "output_type": "execute_result"
    }
   ],
   "source": [
    "pov_city = df_without_missing_data.pivot_table(index=\"city\", values=[\"pov\",'urate','college'], aggfunc=np.mean)\n",
    "pov_city"
   ]
  },
  {
   "cell_type": "markdown",
   "metadata": {},
   "source": [
    "Analyzing the correlations between poverty, unemployment rate and college education."
   ]
  },
  {
   "cell_type": "code",
   "execution_count": 286,
   "metadata": {
    "collapsed": false
   },
   "outputs": [
    {
     "data": {
      "text/plain": [
       "<function matplotlib.pyplot.show>"
      ]
     },
     "execution_count": 286,
     "metadata": {},
     "output_type": "execute_result"
    },
    {
     "data": {
      "image/png": "[encoded data removed]",
      "text/plain": [
       "<matplotlib.figure.Figure at 0x13464909b38>"
      ]
     },
     "metadata": {},
     "output_type": "display_data"
    }
   ],
   "source": [
    "slope, intercept, r_value, p_value, std_err = scipy.stats.linregress(pivottable['urate'],pivottable['pov'])\n",
    "predict_pov = 0*slope+intercept\n",
    "predict_pov2 = 0.25*slope+intercept\n",
    "plt.scatter(pivottable['urate'],pivottable['pov'])\n",
    "plt.plot([0,0.25],[predict_pov,predict_pov2],color='r')\n",
    "plt.xlabel('unemployment')\n",
    "plt.ylabel('poverty')\n",
    "plt.xlim(0,0.25)\n",
    "plt.show"
   ]
  },
  {
   "cell_type": "code",
   "execution_count": 284,
   "metadata": {
    "collapsed": false
   },
   "outputs": [
    {
     "data": {
      "text/plain": [
       "<function matplotlib.pyplot.show>"
      ]
     },
     "execution_count": 284,
     "metadata": {},
     "output_type": "execute_result"
    },
    {
     "data": {
      "image/png": "[encoded data removed]",
      "text/plain": [
       "<matplotlib.figure.Figure at 0x134673cd7b8>"
      ]
     },
     "metadata": {},
     "output_type": "display_data"
    }
   ],
   "source": [
    "slope, intercept, r_value, p_value, std_err = scipy.stats.linregress(pivottable['college'],pivottable['urate'])\n",
    "predict_pov = 0*slope+intercept\n",
    "predict_pov2 = 0.9*slope+intercept\n",
    "plt.scatter(pivottable['college'],pivottable['urate'])\n",
    "plt.plot([0,0.9],[predict_pov,predict_pov2],color='r')\n",
    "plt.xlabel('college')\n",
    "plt.ylabel('urate')\n",
    "plt.xlim(0,0.9)\n",
    "plt.show"
   ]
  },
  {
   "cell_type": "code",
   "execution_count": 283,
   "metadata": {
    "collapsed": false
   },
   "outputs": [
    {
     "data": {
      "text/plain": [
       "<function matplotlib.pyplot.show>"
      ]
     },
     "execution_count": 283,
     "metadata": {},
     "output_type": "execute_result"
    },
    {
     "data": {
      "image/png": "[encoded data removed]",
      "text/plain": [
       "<matplotlib.figure.Figure at 0x134673927f0>"
      ]
     },
     "metadata": {},
     "output_type": "display_data"
    }
   ],
   "source": [
    "slope, intercept, r_value, p_value, std_err = scipy.stats.linregress(pivottable['college'],pivottable['pov'])\n",
    "predict_pov = 0*slope+intercept\n",
    "predict_pov2 = 0.9*slope+intercept\n",
    "plt.scatter(pivottable['college'],pivottable['pov'])\n",
    "plt.plot([0,0.9],[predict_pov,predict_pov2],color='r')\n",
    "plt.xlabel('college')\n",
    "plt.ylabel('pov')\n",
    "plt.xlim(0,0.9)\n",
    "plt.show"
   ]
  },
  {
   "cell_type": "code",
   "execution_count": 266,
   "metadata": {
    "collapsed": false
   },
   "outputs": [
    {
     "name": "stdout",
     "output_type": "stream",
     "text": [
      "unemployment vs. poverty: 0.603048295291\n",
      "college vs. unemployment: -0.451138199053\n",
      "college vs. poverty: -0.472430465352\n"
     ]
    }
   ],
   "source": [
    "r, p_value = pearsonr(pov_city['urate'],pov_city['pov'])\n",
    "print('unemployment vs. poverty:', r)\n",
    "\n",
    "r, p_value = pearsonr(pov_city['college'],pov_city['urate'])\n",
    "print('college vs. unemployment:', r)\n",
    "\n",
    "r, p_value = pearsonr(pov_city['college'],pov_city['pov'])\n",
    "print('college vs. poverty:', r)"
   ]
  },
  {
   "cell_type": "markdown",
   "metadata": {},
   "source": [
    "As expected, the unemployment rate, the poverty rate and the college attendees rate are highly correlated. The lower the number of college attendees, the higher the poverty and unemployment rate. The higher the unemployment rate, the higher the poverty."
   ]
  }
 ],
 "metadata": {
  "anaconda-cloud": {},
  "kernelspec": {
   "display_name": "Python [default]",
   "language": "python",
   "name": "python3"
  },
  "language_info": {
   "codemirror_mode": {
    "name": "ipython",
    "version": 3
   },
   "file_extension": ".py",
   "mimetype": "text/x-python",
   "name": "python",
   "nbconvert_exporter": "python",
   "pygments_lexer": "ipython3",
   "version": "3.5.2"
  }
 },
 "nbformat": 4,
 "nbformat_minor": 0
}
